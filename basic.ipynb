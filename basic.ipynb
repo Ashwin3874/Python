{
 "cells": [
  {
   "cell_type": "code",
   "execution_count": 1,
   "id": "a8bfca81",
   "metadata": {},
   "outputs": [
    {
     "name": "stdout",
     "output_type": "stream",
     "text": [
      "welcome to codes with ashwin\n",
      "welcome to codes with ashwin\n"
     ]
    }
   ],
   "source": [
    "print(\"welcome to codes with ashwin\")\n",
    "print('welcome to codes with ashwin')"
   ]
  },
  {
   "cell_type": "code",
   "execution_count": 3,
   "id": "12101905",
   "metadata": {},
   "outputs": [
    {
     "name": "stdout",
     "output_type": "stream",
     "text": [
      "'welcome'\n",
      "\"welcome\"\n"
     ]
    }
   ],
   "source": [
    "print(\"'welcome'\")\n",
    "print('\"welcome\"')"
   ]
  },
  {
   "cell_type": "code",
   "execution_count": 4,
   "id": "2ada9ce4",
   "metadata": {},
   "outputs": [
    {
     "name": "stdout",
     "output_type": "stream",
     "text": [
      "1234567\n"
     ]
    }
   ],
   "source": [
    "print(1234567)\n"
   ]
  },
  {
   "cell_type": "code",
   "execution_count": 5,
   "id": "08b9c2fb",
   "metadata": {},
   "outputs": [],
   "source": [
    "#print(\"my number is:\",4567)\n"
   ]
  },
  {
   "cell_type": "code",
   "execution_count": null,
   "id": "71e93af0",
   "metadata": {},
   "outputs": [],
   "source": []
  }
 ],
 "metadata": {
  "kernelspec": {
   "display_name": "base",
   "language": "python",
   "name": "python3"
  },
  "language_info": {
   "codemirror_mode": {
    "name": "ipython",
    "version": 3
   },
   "file_extension": ".py",
   "mimetype": "text/x-python",
   "name": "python",
   "nbconvert_exporter": "python",
   "pygments_lexer": "ipython3",
   "version": "3.12.7"
  }
 },
 "nbformat": 4,
 "nbformat_minor": 5
}
