{
 "cells": [
  {
   "cell_type": "code",
   "execution_count": 21,
   "id": "3125d362-98fb-492e-a8bb-fa223f75849e",
   "metadata": {},
   "outputs": [
    {
     "name": "stdin",
     "output_type": "stream",
     "text": [
      "Enter loan amount:- 100000\n",
      "Enter tenure (years):- 3\n",
      "Enter rate of interest:- 12\n"
     ]
    },
    {
     "name": "stdout",
     "output_type": "stream",
     "text": [
      "---HDFC HOME LOAN CALCULATOR---\n",
      "Principal loan amount:- 100000.0\n",
      "Loan Tenure in month:- 36.0\n",
      "Rate of Interast:- 12.0\n",
      "Monthly EMI:- 3321.430981285117\n",
      "Interest amount :- 19571.515326264212\n",
      "Total amount payable:- 119571.51532626421\n"
     ]
    }
   ],
   "source": [
    "P=float(input('Enter loan amount:-'))\n",
    "tenure=float(input('Enter tenure (years):-'))\n",
    "Rate=float(input('Enter rate of interest:-'))\n",
    "R=Rate/12/100\n",
    "N=tenure*12\n",
    "\n",
    "Monthly_EMI=P * R * (1+R) **N / ((1+R) ** N-1)\n",
    "\n",
    "print('---HDFC HOME LOAN CALCULATOR---')\n",
    "print('Principal loan amount:-',P)\n",
    "print('Loan Tenure in month:-',N)\n",
    "print('Rate of Interast:-',Rate)\n",
    "print('Monthly EMI:-',Monthly_EMI)\n",
    "print('Interest amount :-',(Monthly_EMI*N)-P)\n",
    "print('Total amount payable:-',P+((Monthly_EMI*N)-P))\n",
    "\n",
    "\n",
    "                          "
   ]
  },
  {
   "cell_type": "code",
   "execution_count": null,
   "id": "925cdc47-f96d-4f12-a9e4-b31bb1c65467",
   "metadata": {},
   "outputs": [],
   "source": []
  },
  {
   "cell_type": "code",
   "execution_count": null,
   "id": "5b741efe-5de8-4f19-9313-638a55abaa61",
   "metadata": {},
   "outputs": [],
   "source": []
  }
 ],
 "metadata": {
  "kernelspec": {
   "display_name": "Python 3 (ipykernel)",
   "language": "python",
   "name": "python3"
  },
  "language_info": {
   "codemirror_mode": {
    "name": "ipython",
    "version": 3
   },
   "file_extension": ".py",
   "mimetype": "text/x-python",
   "name": "python",
   "nbconvert_exporter": "python",
   "pygments_lexer": "ipython3",
   "version": "3.12.7"
  }
 },
 "nbformat": 4,
 "nbformat_minor": 5
}
