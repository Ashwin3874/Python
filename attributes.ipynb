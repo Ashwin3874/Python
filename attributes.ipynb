{
 "cells": [
  {
   "cell_type": "code",
   "execution_count": 50,
   "id": "529eae0f-9e71-475d-84ee-656975865a7c",
   "metadata": {},
   "outputs": [],
   "source": [
    "class bank:\n",
    "    def bank():\n",
    "        print('Bank name : SBI')\n",
    "    def amount(self,amount):\n",
    "        self.amount=amount\n",
    "        print('amount:-',amount)\n",
    "    def deposit(self,deposit):\n",
    "        print('deposit:-',deposit)\n",
    "        update_amount=self.amount+deposit\n",
    "        print('update_amount:-',update_amount)\n",
    "        self.amount=update_amount\n",
    "    def withdrawl(self,amount):\n",
    "        balance_amount=self.amount-amount\n",
    "        print('balance_amount:-',balance_amount)\n",
    "        self.amount=balance_amount\n",
    "    def interest(self,rate):\n",
    "        interest=self.amount*rate/100\n",
    "        print('interest_rate:-',interest)\n",
    "        amt=self.amount+interest\n",
    "        self.amount=amt\n",
    "    def customer_info(self,name):\n",
    "        print('customer name:',name)\n",
    "    def balance(self):\n",
    "        print('balance_amount:-',self.amount)"
   ]
  },
  {
   "cell_type": "code",
   "execution_count": 52,
   "id": "20d0c0ab-d39f-4f64-9cc8-e8772b57cb27",
   "metadata": {},
   "outputs": [
    {
     "name": "stdout",
     "output_type": "stream",
     "text": [
      "amount:- 10000\n",
      "deposit:- 3000\n",
      "update_amount:- 13000\n",
      "balance_amount:- 12000\n",
      "interest_rate:- 1200.0\n",
      "customer name: raj\n",
      "balance_amount:- 13200.0\n"
     ]
    }
   ],
   "source": [
    "b=bank()\n",
    "b.amount(10000)\n",
    "b.deposit(3000)\n",
    "b.withdrawl(1000)\n",
    "b.interest(10)\n",
    "b.customer_info('raj')\n",
    "b.balance()\n",
    "\n"
   ]
  },
  {
   "cell_type": "code",
   "execution_count": null,
   "id": "cc0a5bdd-db9e-4b73-8a06-880d292a97c4",
   "metadata": {},
   "outputs": [],
   "source": []
  },
  {
   "cell_type": "code",
   "execution_count": null,
   "id": "d2c4776c-0c17-4b6f-829b-d7d6428bcb30",
   "metadata": {},
   "outputs": [],
   "source": []
  }
 ],
 "metadata": {
  "kernelspec": {
   "display_name": "Python 3 (ipykernel)",
   "language": "python",
   "name": "python3"
  },
  "language_info": {
   "codemirror_mode": {
    "name": "ipython",
    "version": 3
   },
   "file_extension": ".py",
   "mimetype": "text/x-python",
   "name": "python",
   "nbconvert_exporter": "python",
   "pygments_lexer": "ipython3",
   "version": "3.12.7"
  }
 },
 "nbformat": 4,
 "nbformat_minor": 5
}
