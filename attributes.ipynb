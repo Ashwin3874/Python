{
 "cells": [
  {
   "cell_type": "code",
   "execution_count": 4,
   "id": "529eae0f-9e71-475d-84ee-656975865a7c",
   "metadata": {},
   "outputs": [],
   "source": [
    "class bank:\n",
    "    def bank():\n",
    "        print('Bank name : SBI')\n",
    "    def amount(amount):\n",
    "        print('amount:',amount)\n",
    "    def deposit(amdeposit):\n",
    "        deposit=amount+deposit\n",
    "        print('deposit:',deposit)\n",
    "    def withdrawl(withdrawl):\n",
    "        withdrawl=deposit-withdrawl\n",
    "        print('withdrawl:',withdrawl)\n",
    "    def tax(tax):\n",
    "        tax-=deposit\n",
    "        print('tax:',tax)\n",
    "    def customer_info(customer_info):\n",
    "        print('customer name : altaf')\n",
    "    def balance(balance):\n",
    "        balance=tax\n",
    "        print('balance:',balance)"
   ]
  },
  {
   "cell_type": "code",
   "execution_count": 12,
   "id": "20d0c0ab-d39f-4f64-9cc8-e8772b57cb27",
   "metadata": {},
   "outputs": [
    {
     "ename": "TypeError",
     "evalue": "bank.amount() takes 1 positional argument but 2 were given",
     "output_type": "error",
     "traceback": [
      "\u001b[1;31m---------------------------------------------------------------------------\u001b[0m",
      "\u001b[1;31mTypeError\u001b[0m                                 Traceback (most recent call last)",
      "Cell \u001b[1;32mIn[12], line 2\u001b[0m\n\u001b[0;32m      1\u001b[0m b\u001b[38;5;241m=\u001b[39mbank()\n\u001b[1;32m----> 2\u001b[0m b\u001b[38;5;241m.\u001b[39mamount(\u001b[38;5;241m100\u001b[39m)\n\u001b[0;32m      3\u001b[0m b\u001b[38;5;241m.\u001b[39mdeposit(\u001b[38;5;241m300\u001b[39m)\n\u001b[0;32m      4\u001b[0m b\u001b[38;5;241m.\u001b[39mwithdrawl(\u001b[38;5;241m200\u001b[39m)\n",
      "\u001b[1;31mTypeError\u001b[0m: bank.amount() takes 1 positional argument but 2 were given"
     ]
    }
   ],
   "source": [
    "b=bank()\n",
    "b.amount(100)\n",
    "b.deposit(300)\n",
    "b.withdrawl(200)\n",
    "b.tax(18)\n",
    "\n"
   ]
  },
  {
   "cell_type": "code",
   "execution_count": null,
   "id": "cc0a5bdd-db9e-4b73-8a06-880d292a97c4",
   "metadata": {},
   "outputs": [],
   "source": []
  }
 ],
 "metadata": {
  "kernelspec": {
   "display_name": "Python 3 (ipykernel)",
   "language": "python",
   "name": "python3"
  },
  "language_info": {
   "codemirror_mode": {
    "name": "ipython",
    "version": 3
   },
   "file_extension": ".py",
   "mimetype": "text/x-python",
   "name": "python",
   "nbconvert_exporter": "python",
   "pygments_lexer": "ipython3",
   "version": "3.12.7"
  }
 },
 "nbformat": 4,
 "nbformat_minor": 5
}
