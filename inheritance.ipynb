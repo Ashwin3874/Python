{
 "cells": [
  {
   "cell_type": "code",
   "execution_count": 48,
   "id": "8043858a-c824-46c4-9cc2-199e02495901",
   "metadata": {},
   "outputs": [],
   "source": [
    "class client:\n",
    "    def client_info():\n",
    "        print(\"client name : raj\")\n",
    "        "
   ]
  },
  {
   "cell_type": "code",
   "execution_count": 50,
   "id": "7a624bfb-1241-4725-9acc-030d86e35637",
   "metadata": {},
   "outputs": [],
   "source": [
    "class product(client):\n",
    "    def product_info():\n",
    "        print(\"product info - books\")\n",
    "        "
   ]
  },
  {
   "cell_type": "code",
   "execution_count": 52,
   "id": "69994353-4e8b-44a5-8e44-53fc0096e74c",
   "metadata": {},
   "outputs": [
    {
     "name": "stdout",
     "output_type": "stream",
     "text": [
      "client name : raj\n",
      "product info - books\n"
     ]
    }
   ],
   "source": [
    "object = product\n",
    "object.client_info()\n",
    "object.product_info()"
   ]
  },
  {
   "cell_type": "code",
   "execution_count": null,
   "id": "605ff37d-c6ed-4332-8c21-ee9c22bc01c4",
   "metadata": {},
   "outputs": [],
   "source": []
  }
 ],
 "metadata": {
  "kernelspec": {
   "display_name": "Python 3 (ipykernel)",
   "language": "python",
   "name": "python3"
  },
  "language_info": {
   "codemirror_mode": {
    "name": "ipython",
    "version": 3
   },
   "file_extension": ".py",
   "mimetype": "text/x-python",
   "name": "python",
   "nbconvert_exporter": "python",
   "pygments_lexer": "ipython3",
   "version": "3.12.7"
  }
 },
 "nbformat": 4,
 "nbformat_minor": 5
}
