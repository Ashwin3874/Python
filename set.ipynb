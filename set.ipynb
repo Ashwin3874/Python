{
 "cells": [
  {
   "cell_type": "code",
   "execution_count": 2,
   "id": "b3bd21c0-6375-4ef5-a132-a948e843ea6b",
   "metadata": {},
   "outputs": [
    {
     "name": "stdout",
     "output_type": "stream",
     "text": [
      "{1, 2, 3, 4, 5, 6, 7}\n"
     ]
    }
   ],
   "source": [
    "#set\n",
    "data={1,2,2,2,3,3,4,5,6,7,}\n",
    "print(data)\n"
   ]
  },
  {
   "cell_type": "code",
   "execution_count": 4,
   "id": "b494f228-bd3d-43cd-9b0c-4ef08a3a06d9",
   "metadata": {},
   "outputs": [
    {
     "name": "stdout",
     "output_type": "stream",
     "text": [
      "set()\n"
     ]
    }
   ],
   "source": [
    "data=set()\n",
    "print(data)\n"
   ]
  },
  {
   "cell_type": "code",
   "execution_count": 6,
   "id": "64ce723d-3e60-41e1-8bf3-ed7232c927a6",
   "metadata": {},
   "outputs": [
    {
     "name": "stdout",
     "output_type": "stream",
     "text": [
      "{1, 2, 4, 5, 6, 7, 8, 9}\n"
     ]
    }
   ],
   "source": [
    "list_data=[1,1,2,2,2,4,5,6,7,8,8,9]\n",
    "set_data=set(list_data)\n",
    "print(set_data)\n"
   ]
  },
  {
   "cell_type": "code",
   "execution_count": 8,
   "id": "586ba25c-f483-405a-bf06-b51541299c6b",
   "metadata": {},
   "outputs": [
    {
     "name": "stdout",
     "output_type": "stream",
     "text": [
      "{33, 66, 22, 55, 11, 44}\n",
      "{33, 66, 22, 55, 555, 11, 44}\n"
     ]
    }
   ],
   "source": [
    "#add()\n",
    "data={11,22,11,33,44,55,55,66}\n",
    "print(data)\n",
    "data.add(555)\n",
    "print(data)"
   ]
  },
  {
   "cell_type": "code",
   "execution_count": 14,
   "id": "31ea6c07-e2cc-43d8-b240-9ff860e80088",
   "metadata": {},
   "outputs": [
    {
     "name": "stdout",
     "output_type": "stream",
     "text": [
      "{66, 3, 4, 5, 2, 11, 22, 33, 555, 44, 55}\n"
     ]
    }
   ],
   "source": [
    "#update()\n",
    "data.update([5,4,3,2])\n",
    "print(data)"
   ]
  }
 ],
 "metadata": {
  "kernelspec": {
   "display_name": "Python 3 (ipykernel)",
   "language": "python",
   "name": "python3"
  },
  "language_info": {
   "codemirror_mode": {
    "name": "ipython",
    "version": 3
   },
   "file_extension": ".py",
   "mimetype": "text/x-python",
   "name": "python",
   "nbconvert_exporter": "python",
   "pygments_lexer": "ipython3",
   "version": "3.12.7"
  }
 },
 "nbformat": 4,
 "nbformat_minor": 5
}
