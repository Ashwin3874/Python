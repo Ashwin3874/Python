{
 "cells": [
  {
   "cell_type": "code",
   "execution_count": 2,
   "id": "2d7a5a7c-848f-4cb8-bf98-6108101e25db",
   "metadata": {},
   "outputs": [],
   "source": [
    "#list in python \n",
    "#int type list \n",
    "int_list =[1,2,3,4,5,6]\n",
    "#float type list\n",
    "float_list=[1.1,2.2,3.3,4.4,5.5]\n",
    "#string type list\n",
    "string_list= [\"hat\",\"cat\",\"rat\",\"mat\",\"fat\"]\n",
    "#mixed type list\n",
    "mixed_list=[1,2.2,\"one\",\"tow\",5]\n"
   ]
  },
  {
   "cell_type": "code",
   "execution_count": 8,
   "id": "4b704aa0-6a12-4051-a1a8-713d4d388e27",
   "metadata": {},
   "outputs": [
    {
     "name": "stdout",
     "output_type": "stream",
     "text": [
      "int_list: [1, 2, 3, 4, 5, 6]\n",
      "float_list: [1.1, 2.2, 3.3, 4.4, 5.5]\n",
      "string_list: ['hat', 'cat', 'rat', 'mat', 'fat']\n",
      "mixed_list: [1, 2.2, 'one', 'tow', 5]\n"
     ]
    }
   ],
   "source": [
    "print(\"int_list:\",int_list)\n",
    "print(\"float_list:\",float_list)\n",
    "print(\"string_list:\",string_list)\n",
    "print(\"mixed_list:\",mixed_list)\n"
   ]
  },
  {
   "cell_type": "code",
   "execution_count": 10,
   "id": "3114d446-c6b6-4405-9409-c3f418d61fa6",
   "metadata": {},
   "outputs": [
    {
     "name": "stdout",
     "output_type": "stream",
     "text": [
      "88\n",
      "55\n",
      "22\n"
     ]
    }
   ],
   "source": [
    "#list\n",
    "#accessing element\n",
    "data=[22,33,44,55,66,77,88,99]\n",
    "print(data[6])\n",
    "print(data[3])\n",
    "print(data[0])"
   ]
  },
  {
   "cell_type": "code",
   "execution_count": 12,
   "id": "9a41bcc1-8544-4c7e-929b-a45272519100",
   "metadata": {},
   "outputs": [
    {
     "name": "stdout",
     "output_type": "stream",
     "text": [
      "[55]\n",
      "[77, 88, 99]\n",
      "[22, 33, 44, 55, 66]\n",
      "[77, 88, 99]\n"
     ]
    }
   ],
   "source": [
    "#slicing\n",
    "print(data[3:4])\n",
    "print(data[5:8])\n",
    "print(data[:5])\n",
    "print(data[5:])"
   ]
  },
  {
   "cell_type": "code",
   "execution_count": 14,
   "id": "36fe65ad-2b33-4b58-ac30-6eada5d57773",
   "metadata": {},
   "outputs": [
    {
     "name": "stdout",
     "output_type": "stream",
     "text": [
      "[22, 33, 44, 55, 58, 66, 999, 77, 88, 99]\n"
     ]
    }
   ],
   "source": [
    "#methods\n",
    "#adding element\n",
    "data=[22,33,44,55,66,77,88,99]\n",
    "data.insert(5,999)\n",
    "data.insert(4,58)\n",
    "print(data)"
   ]
  },
  {
   "cell_type": "code",
   "execution_count": 16,
   "id": "f57a2bce-ce09-499e-a4bc-6d0a511b6bc1",
   "metadata": {},
   "outputs": [
    {
     "name": "stdout",
     "output_type": "stream",
     "text": [
      "[22, 33, 44, 55, 58, 66, 999, 77, 88, 99, 11, 12, 13]\n"
     ]
    }
   ],
   "source": [
    "new_data=[11,12,13]\n",
    "#extending the list\n",
    "data.extend(new_data)\n",
    "print(data)\n"
   ]
  },
  {
   "cell_type": "code",
   "execution_count": 18,
   "id": "cf7bd543-8727-4068-a6a4-023558c9d0a9",
   "metadata": {},
   "outputs": [
    {
     "name": "stdout",
     "output_type": "stream",
     "text": [
      "[22, 33, 44, 55, 58, 66, 999, 77, 88, 99, 11, 12, 13, 1000]\n"
     ]
    }
   ],
   "source": [
    "#appendind an element\n",
    "data.append(1000)\n",
    "print(data)\n"
   ]
  },
  {
   "cell_type": "code",
   "execution_count": 43,
   "id": "0228567c-f28d-4f59-be2d-3a05c1037cbd",
   "metadata": {},
   "outputs": [
    {
     "name": "stdout",
     "output_type": "stream",
     "text": [
      "[1, [14, 24, 34], [14, 24, 34], [14, 24, 34], [14, 24, 34], [14, 24, 34], 2, 3, 4]\n"
     ]
    }
   ],
   "source": [
    "a=[14,24,34,]\n",
    "data.insert(1,a)\n",
    "print(data)"
   ]
  },
  {
   "cell_type": "code",
   "execution_count": 63,
   "id": "49ab0047-9fa9-440d-9443-19676dfd936c",
   "metadata": {},
   "outputs": [
    {
     "name": "stdout",
     "output_type": "stream",
     "text": [
      "[1, 2]\n"
     ]
    }
   ],
   "source": [
    "data.remove(a)\n",
    "print(data)"
   ]
  },
  {
   "cell_type": "code",
   "execution_count": 55,
   "id": "e072bbdf-c51a-4409-92b6-8ff51e74d85e",
   "metadata": {},
   "outputs": [
    {
     "data": {
      "text/plain": [
       "3"
      ]
     },
     "execution_count": 55,
     "metadata": {},
     "output_type": "execute_result"
    }
   ],
   "source": [
    "data.pop()"
   ]
  },
  {
   "cell_type": "code",
   "execution_count": 57,
   "id": "3695b21a-2443-4659-a7bd-8c258a9452ea",
   "metadata": {},
   "outputs": [
    {
     "name": "stdout",
     "output_type": "stream",
     "text": [
      "[1, [14, 24, 34], 2]\n"
     ]
    }
   ],
   "source": [
    "print(data)"
   ]
  },
  {
   "cell_type": "code",
   "execution_count": 69,
   "id": "b79dc9b8-f67a-4955-a684-44eb91abf2ff",
   "metadata": {},
   "outputs": [
    {
     "name": "stdout",
     "output_type": "stream",
     "text": [
      "total: 3\n"
     ]
    }
   ],
   "source": [
    "total=sum(data)\n",
    "print(\"total:\",total)"
   ]
  },
  {
   "cell_type": "code",
   "execution_count": 71,
   "id": "554dedc2-b08d-4fd5-9fc2-c5a89e357d23",
   "metadata": {},
   "outputs": [],
   "source": [
    "min=min(data)\n",
    "max=max(data)\n",
    "len=len(data)"
   ]
  },
  {
   "cell_type": "code",
   "execution_count": 73,
   "id": "b1280884-f199-477f-9e44-b189d086c157",
   "metadata": {},
   "outputs": [
    {
     "name": "stdout",
     "output_type": "stream",
     "text": [
      "min: 1\n"
     ]
    }
   ],
   "source": [
    "print(\"min:\",min)"
   ]
  },
  {
   "cell_type": "code",
   "execution_count": 75,
   "id": "db7a648c-9011-4e23-8c45-52f33c3f7142",
   "metadata": {},
   "outputs": [
    {
     "name": "stdout",
     "output_type": "stream",
     "text": [
      "max: 2\n",
      "len: 2\n"
     ]
    }
   ],
   "source": [
    "print(\"max:\",max)\n",
    "print(\"len:\",len)\n"
   ]
  },
  {
   "cell_type": "code",
   "execution_count": 77,
   "id": "309c5a4d-aaef-41dd-8abe-227809dbf3fc",
   "metadata": {},
   "outputs": [
    {
     "name": "stdout",
     "output_type": "stream",
     "text": [
      "1\n",
      "2\n"
     ]
    }
   ],
   "source": [
    "for i in data :\n",
    "    print(i)"
   ]
  },
  {
   "cell_type": "code",
   "execution_count": 81,
   "id": "736a7cb7-127c-4751-98e7-0fa72056ef1f",
   "metadata": {},
   "outputs": [
    {
     "name": "stdout",
     "output_type": "stream",
     "text": [
      "1_2_"
     ]
    }
   ],
   "source": [
    "for i in data:\n",
    "    print(i,end='_')"
   ]
  },
  {
   "cell_type": "code",
   "execution_count": 87,
   "id": "16d3b1dc-28a0-4056-9bae-701b39b4011f",
   "metadata": {},
   "outputs": [
    {
     "name": "stdin",
     "output_type": "stream",
     "text": [
      "enter size list 5\n",
      "enter food name banana\n",
      "enter food name apple\n",
      "enter food name mongo\n",
      "enter food name cherry\n",
      "enter food name lichi\n"
     ]
    },
    {
     "name": "stdout",
     "output_type": "stream",
     "text": [
      "banana\n",
      "apple\n",
      "mongo\n",
      "cherry\n",
      "lichi\n"
     ]
    }
   ],
   "source": [
    "size=int(input(\"enter size list\")) \n",
    "food=[]\n",
    "for i in range(size):\n",
    "    item=input(\"enter food name\")\n",
    "    food.append(item)\n",
    "\n",
    "for item in food :\n",
    "    print(item)"
   ]
  },
  {
   "cell_type": "code",
   "execution_count": null,
   "id": "676866b7-0e2d-4a57-bba2-4b795345cf03",
   "metadata": {},
   "outputs": [],
   "source": []
  }
 ],
 "metadata": {
  "kernelspec": {
   "display_name": "Python 3 (ipykernel)",
   "language": "python",
   "name": "python3"
  },
  "language_info": {
   "codemirror_mode": {
    "name": "ipython",
    "version": 3
   },
   "file_extension": ".py",
   "mimetype": "text/x-python",
   "name": "python",
   "nbconvert_exporter": "python",
   "pygments_lexer": "ipython3",
   "version": "3.12.7"
  }
 },
 "nbformat": 4,
 "nbformat_minor": 5
}
