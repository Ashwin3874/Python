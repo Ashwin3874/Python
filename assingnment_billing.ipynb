{
 "cells": [
  {
   "cell_type": "code",
   "execution_count": 52,
   "id": "f42673c4-ec31-450a-80d0-40fb3edfdb0b",
   "metadata": {},
   "outputs": [
    {
     "name": "stdout",
     "output_type": "stream",
     "text": [
      "-----------Billing--------------\n"
     ]
    },
    {
     "name": "stdin",
     "output_type": "stream",
     "text": [
      "enter list size 4\n",
      "enter product name apple\n",
      "enter product name banana\n",
      "enter product name cherry\n",
      "enter product name mango\n",
      "enter product price 60\n",
      "enter product price 40\n",
      "enter product price 100\n",
      "enter product price 80\n"
     ]
    },
    {
     "name": "stdout",
     "output_type": "stream",
     "text": [
      "----------------------------\n"
     ]
    },
    {
     "name": "stdin",
     "output_type": "stream",
     "text": [
      "do you want gst [y/n] y\n",
      "enter gst% 18\n"
     ]
    },
    {
     "name": "stdout",
     "output_type": "stream",
     "text": [
      "1 . apple = 60\n",
      "2 . banana = 40\n",
      "3 . cherry = 100\n",
      "4 . mango = 80\n",
      "------------------\n",
      "gst: 18 %\n",
      "gstamount: 50.4\n",
      "-------------------------\n",
      "mrp: 330.4 /-\n"
     ]
    }
   ],
   "source": [
    "#assingment.01\n",
    "print(\"-----------Billing--------------\")\n",
    "product=[]\n",
    "price=[]\n",
    "size=int(input(\"enter list size\"))\n",
    "for i in range(size):\n",
    "    i=input(\"enter product name\")\n",
    "    product.append(i)\n",
    "for i in range(size):\n",
    "    i= int(input(\"enter product price\"))\n",
    "    price.append(i)\n",
    "print(\"----------------------------\")\n",
    "yes=input(\"do you want gst [y/n]\")\n",
    "if yes == \"y\" or yes==\"Y\" :\n",
    "    gst=int(input(\"enter gst%\"))\n",
    "    total=0\n",
    "    for i in range(size):\n",
    "        total=total+price[i]\n",
    "        print((i+1),\".\",product[i],'=',price[i])\n",
    "        gstamount=total*gst/100\n",
    "        mrp=gstamount+total\n",
    "    print(\"------------------\")\n",
    "    print(\"gst:\",gst,\"%\")\n",
    "    print(\"gstamount:\",gstamount)\n",
    "    print(\"-------------------------\")\n",
    "    print(\"mrp:\",mrp,\"/-\")\n",
    "   \n",
    "else:\n",
    "    total=0\n",
    "    for i in range(size):\n",
    "        total=total+price[i]\n",
    "        print((i+1),\".\",product[i],'=',price[i])\n",
    "    print(\"-----------------------------------\")\n",
    "    print(\"total without gst:\",total)\n",
    "            "
   ]
  },
  {
   "cell_type": "code",
   "execution_count": 12,
   "id": "29d01294-4be1-4a55-a283-6c467927c797",
   "metadata": {},
   "outputs": [
    {
     "name": "stdout",
     "output_type": "stream",
     "text": [
      "-------Bill------\n"
     ]
    },
    {
     "name": "stdin",
     "output_type": "stream",
     "text": [
      "enter product 1 :- samosa\n",
      "do you want to add more [y/n] y\n",
      "enter product 2 kachori\n",
      "do you want to add more [y/n] y\n",
      "enter product 3 fafda\n",
      "do you want to add more [y/n] n\n",
      "enter samosaprice=> 45\n",
      "enter kachoriprice=> 69\n",
      "enter fafdaprice=> 36\n"
     ]
    },
    {
     "name": "stdout",
     "output_type": "stream",
     "text": [
      "------------------bill-------------------\n",
      "['samosa', 'kachori', 'fafda']\n",
      "['45', '69', '36']\n"
     ]
    }
   ],
   "source": [
    "print(\"-------Bill------\")\n",
    "product=[]\n",
    "price=[]\n",
    "i=input(f'enter product 1 :-')\n",
    "product.append(i)\n",
    "for i in range (10):\n",
    "    select = input('do you want to add more [y/n]')\n",
    "    if select==\"Y\" or select == \"y\":\n",
    "        i=input(f'enter product {i+2}')\n",
    "        product.append(i)\n",
    "    elif select==\"N\" or \"n\":\n",
    "        break\n",
    "size=len(product)\n",
    "for i in range (size):\n",
    "    i =input(f'enter {product[i]}price=>')\n",
    "    price.append(i)\n",
    "print(\"------------------bill-------------------\")\n",
    "print(product)\n",
    "print(price)\n"
   ]
  },
  {
   "cell_type": "code",
   "execution_count": 1,
   "id": "1956b25e-3dc0-4576-bf5a-2d48abbaa0a8",
   "metadata": {},
   "outputs": [
    {
     "name": "stdin",
     "output_type": "stream",
     "text": [
      " enter product 1 :-  samosa\n",
      "do you want to add more [y/n] y\n",
      "enter product 2 kchori\n",
      "do you want to add more [y/n] y\n",
      "enter product 3 fafda\n",
      "do you want to add more [y/n] y\n",
      "enter product 4 jalebi\n",
      "do you want to add more [y/n] y\n",
      "enter product 5 bhajiya\n",
      "do you want to add more [y/n] n\n",
      "enter samosa price=>  58\n",
      "enter kchori price=>  56\n",
      "enter fafda price=>  15\n",
      "enter jalebi price=>  12\n",
      "enter bhajiya price=>  85\n",
      "do you want to add gst [y/n] y\n",
      "enter gst% 18\n"
     ]
    },
    {
     "name": "stdout",
     "output_type": "stream",
     "text": [
      "1 . samosa = 58\n",
      "2 . kchori = 56\n",
      "3 . fafda = 15\n",
      "4 . jalebi = 12\n",
      "5 . bhajiya = 85\n",
      "total amount =>  226\n",
      "gst: 18 %\n",
      "gst amount: 40.68\n",
      "---------------------\n",
      "total amount [include gst] =>  266.68\n"
     ]
    }
   ],
   "source": [
    "product = []\n",
    "price = []\n",
    "i=input(f' enter product 1 :- ')\n",
    "product.append(i)\n",
    "for i in range (10):\n",
    "    select = input('do you want to add more [y/n]')\n",
    "    if select == \"Y\" or select == \"y\":\n",
    "        i=input(f'enter product {i+2}')\n",
    "        product.append(i)\n",
    "    elif select == \"N\" or \"n\":\n",
    "        break\n",
    "size=len(product)\n",
    "for i in range (size):\n",
    "    i=int(input(f'enter {product[i]} price=> '))\n",
    "    price.append(i)\n",
    "\n",
    "\n",
    "yes=input(\"do you want to add gst [y/n]\")\n",
    "if yes==\"y\" or yes==\"y\":\n",
    "    gst=int(input(\"enter gst%\"))\n",
    "    total=0\n",
    "    for i in range(size):\n",
    "        total=total+price[i]\n",
    "        print((i+1),\".\",product[i],'=',price[i])\n",
    "        gstamount=total*gst/100\n",
    "    print(\"total amount => \",total)\n",
    "    print(\"gst:\",gst,\"%\")\n",
    "    print(\"gst amount:\",gstamount)\n",
    "    print(\"---------------------\")\n",
    "    print(\"total amount [include gst] => \",total+gstamount)\n",
    "else:\n",
    "    total=0\n",
    "    for i in range(size):\n",
    "        total=total+price[i]\n",
    "        print((i+1),\".\",product[i],'=',price[i])\n"
   ]
  },
  {
   "cell_type": "code",
   "execution_count": 12,
   "id": "f05ad35d-6a47-4327-a140-c5175c5df9db",
   "metadata": {},
   "outputs": [
    {
     "name": "stdin",
     "output_type": "stream",
     "text": [
      "enter product 1:- samosa\n",
      "enter samosa price:- 78\n",
      "enter samosa qty:- 8\n",
      "do you want to add more product [y\n",
      "] y\n",
      "enter product 2 :- kachori\n",
      "enter kachori price:- 78\n",
      "enter kachori qty:- 8\n",
      "do you want to add more product [y\n",
      "] y\n",
      "enter product 3 :- jalebi\n",
      "enter jalebi price:- 89\n",
      "enter jalebi qty:- 8\n",
      "do you want to add more product [y\n",
      "] n\n",
      "do you want to add gst:-[y\n",
      "] y\n",
      "add gst%:- 18\n"
     ]
    },
    {
     "name": "stdout",
     "output_type": "stream",
     "text": [
      "1 . samosa = 624\n",
      "2 . kachori = 624\n",
      "3 . jalebi = 712\n",
      "-------bill-------\n",
      "total amount:- 1960\n",
      "Gst:- 18 %\n",
      "Gst amount:- 352.8\n",
      "--------------------\n",
      "total amount [include Gst] 2312.8\n"
     ]
    }
   ],
   "source": [
    "#super advance billing systum\n",
    "product=[]\n",
    "price=[]\n",
    "qty=[]\n",
    "i=input(f'enter product 1:-')\n",
    "product.append(i)\n",
    "p=int(input(f'enter {product[0]} price:-'))\n",
    "price.append(p)\n",
    "q=int(input(f'enter {product[0]} qty:-'))\n",
    "qty.append(q)\n",
    "for i in range(100):\n",
    "    select=input('do you want to add more product [y\\n]')\n",
    "    if select=='y'or select=='Y':\n",
    "        i=input(f'enter product {i+2} :-')\n",
    "        product.append(i)\n",
    "        p=int(input(f'enter {i} price:-'))\n",
    "        price.append(p)\n",
    "        q=int(input(f'enter {i} qty:-'))\n",
    "        qty.append(q)\n",
    "    else:\n",
    "        break\n",
    "size=len(product)\n",
    "yes=input('do you want to add gst:-[y\\n]')\n",
    "if yes==\"y\" or yes==\"Y\":\n",
    "    gst=int(input('add gst%:-'))\n",
    "    total=0\n",
    "    for i in range(size):\n",
    "        print((i+1),\".\",product[i],\"=\",price[i]*qty[i])\n",
    "        \n",
    "        total=total+price[i]*qty[i]\n",
    "        gst_amount=total*gst/100\n",
    "    print('-------bill-------')\n",
    "    print('total amount:-',total)\n",
    "    print('Gst:-',gst,'%')\n",
    "    print('Gst amount:-',gst_amount)\n",
    "    print('--------------------')\n",
    "    print('total amount [include Gst]',total+gst_amount)\n",
    "else:\n",
    "    total=0\n",
    "    for i in range(size):\n",
    "        total=total+price[i]*qty[i]\n",
    "    print((i+1),\".\",product[i],\"=\",price[i]*qty[i],\"/-\")\n",
    "        \n",
    "            \n",
    "        \n",
    "    \n",
    "    "
   ]
  },
  {
   "cell_type": "code",
   "execution_count": 27,
   "id": "99b29e3f-baec-414c-8b9e-9adb20320d1e",
   "metadata": {},
   "outputs": [
    {
     "name": "stdin",
     "output_type": "stream",
     "text": [
      "enter your product :- samosa\n",
      "Enter samosa price:- 87\n",
      "Enter samosa qty:- 9\n",
      "do you want to add more product [y\n",
      "] y\n",
      "enter product 2 :- jalebi\n",
      "enter jalebi price:- 56\n",
      "enter jalebi qty:- 5\n",
      "do you want to add more product [y\n",
      "] n\n",
      "do you want to add gst[y\n",
      "]:- y\n",
      "Add GST:- 18\n"
     ]
    },
    {
     "name": "stdout",
     "output_type": "stream",
     "text": [
      "select offer:-\n",
      "Flat 2% off:-\n",
      "Flat 4% off:-\n",
      "Flat 8% off:-\n"
     ]
    },
    {
     "name": "stdin",
     "output_type": "stream",
     "text": [
      "select offer:- 3\n"
     ]
    },
    {
     "name": "stdout",
     "output_type": "stream",
     "text": [
      "----------bill----------\n",
      "1 . samosa = 783\n",
      "2 . jalebi = 280\n",
      "-------------------------------\n",
      "total amount =>  1063\n",
      "-------------------------------\n",
      "gst: 18 %\n",
      "gst amount: 191.34\n",
      "flat 8% off\n",
      "offer amount => 85.04\n",
      "-------------------------------\n",
      "net amount  =>  1169.3\n"
     ]
    }
   ],
   "source": [
    "product=[]\n",
    "price=[]\n",
    "qty=[]\n",
    "i=input('enter your product :-')\n",
    "product.append(i)\n",
    "p=int(input(f'Enter {product[0]} price:-'))\n",
    "price.append(p)\n",
    "q=int(input(f'Enter {product[0]} qty:-'))\n",
    "qty.append(q)\n",
    "for i in range(100):\n",
    "    select=input('do you want to add more product [y\\n]')\n",
    "    if select=='y'or select=='Y':\n",
    "        i=input(f'enter product {i+2} :-')\n",
    "        product.append(i)\n",
    "        p=int(input(f'enter {i} price:-'))\n",
    "        price.append(p)\n",
    "        q=int(input(f'enter {i} qty:-'))\n",
    "        qty.append(q)\n",
    "    else:\n",
    "        break\n",
    "size=len(product)\n",
    "select=input('do you want to add gst[y\\n]:-')\n",
    "if select==\"Y\" or select==\"y\":\n",
    "    Gst=int(input('Add GST:-'))\n",
    "    print('select offer:-')\n",
    "    print('Flat 2% off:-')\n",
    "    print('Flat 4% off:-')\n",
    "    print('Flat 8% off:-')\n",
    "    offer=(input('select offer:-'))\n",
    "    print('----------bill----------')\n",
    "    total=0\n",
    "    for i in range(size):\n",
    "        print((i+1),\".\",product[i],'=',price[i]*qty[i])\n",
    "        total=total+price[i]*qty[i]\n",
    "        gst_amt=total*Gst/100\n",
    "    print(\"-------------------------------\")\n",
    "    print(\"total amount => \",total)\n",
    "    print(\"-------------------------------\")\n",
    "    print(\"gst:\",Gst,\"%\")\n",
    "    print(\"gst amount:\",gst_amt)\n",
    "    if offer==\"1\":\n",
    "        print(\"flat 2% off\")\n",
    "        offer=total*2/100\n",
    "        print(\"offer amount =>\",offer)\n",
    "        print(\"-------------------------------\")\n",
    "        print(\"net amount  => \",total+gst_amt-offer)\n",
    "    elif offer==\"2\":\n",
    "        print(\"flat 4% off\")\n",
    "        offer=total*4/100\n",
    "        print(\"offer amount =>\",offer)\n",
    "        print(\"-------------------------------\")\n",
    "        print(\"net amount  => \",total+gst_amt-offer)\n",
    "    elif offer==\"3\":\n",
    "        print(\"flat 8% off\")\n",
    "        offer=total*8/100\n",
    "        print(\"offer amount =>\",offer)\n",
    "        print(\"-------------------------------\")\n",
    "        print(\"net amount  => \",total+gst_amt-offer)\n",
    "else:\n",
    "    print('-----------------INVOICE BILL----------------')\n",
    "    total=0\n",
    "    for i in range(size):\n",
    "        total=total+price[i]*qty[i]\n",
    "        print((i+1),\".\",product[i],'=',price[i]*qty[i],\"/-\")\n",
    "    print(\"------------------------------\")\n",
    "    print(\"total amount [without gst] => \",total)\n",
    "    print(\"------------------------------\")"
   ]
  },
  {
   "cell_type": "code",
   "execution_count": null,
   "id": "3b6a587e-a12e-46b9-b14b-aec5eadae6b0",
   "metadata": {},
   "outputs": [],
   "source": []
  }
 ],
 "metadata": {
  "kernelspec": {
   "display_name": "Python 3 (ipykernel)",
   "language": "python",
   "name": "python3"
  },
  "language_info": {
   "codemirror_mode": {
    "name": "ipython",
    "version": 3
   },
   "file_extension": ".py",
   "mimetype": "text/x-python",
   "name": "python",
   "nbconvert_exporter": "python",
   "pygments_lexer": "ipython3",
   "version": "3.12.7"
  }
 },
 "nbformat": 4,
 "nbformat_minor": 5
}
