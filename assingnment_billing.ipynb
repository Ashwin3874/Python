{
 "cells": [
  {
   "cell_type": "code",
   "execution_count": 52,
   "id": "f42673c4-ec31-450a-80d0-40fb3edfdb0b",
   "metadata": {},
   "outputs": [
    {
     "name": "stdout",
     "output_type": "stream",
     "text": [
      "-----------Billing--------------\n"
     ]
    },
    {
     "name": "stdin",
     "output_type": "stream",
     "text": [
      "enter list size 4\n",
      "enter product name apple\n",
      "enter product name banana\n",
      "enter product name cherry\n",
      "enter product name mango\n",
      "enter product price 60\n",
      "enter product price 40\n",
      "enter product price 100\n",
      "enter product price 80\n"
     ]
    },
    {
     "name": "stdout",
     "output_type": "stream",
     "text": [
      "----------------------------\n"
     ]
    },
    {
     "name": "stdin",
     "output_type": "stream",
     "text": [
      "do you want gst [y/n] y\n",
      "enter gst% 18\n"
     ]
    },
    {
     "name": "stdout",
     "output_type": "stream",
     "text": [
      "1 . apple = 60\n",
      "2 . banana = 40\n",
      "3 . cherry = 100\n",
      "4 . mango = 80\n",
      "------------------\n",
      "gst: 18 %\n",
      "gstamount: 50.4\n",
      "-------------------------\n",
      "mrp: 330.4 /-\n"
     ]
    }
   ],
   "source": [
    "#assingment.01\n",
    "print(\"-----------Billing--------------\")\n",
    "product=[]\n",
    "price=[]\n",
    "size=int(input(\"enter list size\"))\n",
    "for i in range(size):\n",
    "    i=input(\"enter product name\")\n",
    "    product.append(i)\n",
    "for i in range(size):\n",
    "    i= int(input(\"enter product price\"))\n",
    "    price.append(i)\n",
    "print(\"----------------------------\")\n",
    "yes=input(\"do you want gst [y/n]\")\n",
    "if yes == \"y\" or yes==\"Y\" :\n",
    "    gst=int(input(\"enter gst%\"))\n",
    "    total=0\n",
    "    for i in range(size):\n",
    "        total=total+price[i]\n",
    "        print((i+1),\".\",product[i],'=',price[i])\n",
    "        gstamount=total*gst/100\n",
    "        mrp=gstamount+total\n",
    "    print(\"------------------\")\n",
    "    print(\"gst:\",gst,\"%\")\n",
    "    print(\"gstamount:\",gstamount)\n",
    "    print(\"-------------------------\")\n",
    "    print(\"mrp:\",mrp,\"/-\")\n",
    "   \n",
    "else:\n",
    "    total=0\n",
    "    for i in range(size):\n",
    "        total=total+price[i]\n",
    "        print((i+1),\".\",product[i],'=',price[i])\n",
    "    print(\"-----------------------------------\")\n",
    "    print(\"total without gst:\",total)\n",
    "            "
   ]
  },
  {
   "cell_type": "code",
   "execution_count": 12,
   "id": "29d01294-4be1-4a55-a283-6c467927c797",
   "metadata": {},
   "outputs": [
    {
     "name": "stdout",
     "output_type": "stream",
     "text": [
      "-------Bill------\n"
     ]
    },
    {
     "name": "stdin",
     "output_type": "stream",
     "text": [
      "enter product 1 :- samosa\n",
      "do you want to add more [y/n] y\n",
      "enter product 2 kachori\n",
      "do you want to add more [y/n] y\n",
      "enter product 3 fafda\n",
      "do you want to add more [y/n] n\n",
      "enter samosaprice=> 45\n",
      "enter kachoriprice=> 69\n",
      "enter fafdaprice=> 36\n"
     ]
    },
    {
     "name": "stdout",
     "output_type": "stream",
     "text": [
      "------------------bill-------------------\n",
      "['samosa', 'kachori', 'fafda']\n",
      "['45', '69', '36']\n"
     ]
    }
   ],
   "source": [
    "print(\"-------Bill------\")\n",
    "product=[]\n",
    "price=[]\n",
    "i=input(f'enter product 1 :-')\n",
    "product.append(i)\n",
    "for i in range (10):\n",
    "    select = input('do you want to add more [y/n]')\n",
    "    if select==\"Y\" or select == \"y\":\n",
    "        i=input(f'enter product {i+2}')\n",
    "        product.append(i)\n",
    "    elif select==\"N\" or \"n\":\n",
    "        break\n",
    "size=len(product)\n",
    "for i in range (size):\n",
    "    i =input(f'enter {product[i]}price=>')\n",
    "    price.append(i)\n",
    "print(\"------------------bill-------------------\")\n",
    "print(product)\n",
    "print(price)\n"
   ]
  },
  {
   "cell_type": "code",
   "execution_count": null,
   "id": "1956b25e-3dc0-4576-bf5a-2d48abbaa0a8",
   "metadata": {},
   "outputs": [],
   "source": []
  }
 ],
 "metadata": {
  "kernelspec": {
   "display_name": "Python 3 (ipykernel)",
   "language": "python",
   "name": "python3"
  },
  "language_info": {
   "codemirror_mode": {
    "name": "ipython",
    "version": 3
   },
   "file_extension": ".py",
   "mimetype": "text/x-python",
   "name": "python",
   "nbconvert_exporter": "python",
   "pygments_lexer": "ipython3",
   "version": "3.12.7"
  }
 },
 "nbformat": 4,
 "nbformat_minor": 5
}
