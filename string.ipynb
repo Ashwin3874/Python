{
 "cells": [
  {
   "cell_type": "code",
   "execution_count": 4,
   "id": "ad2e42c2-15b7-4951-8a61-2adcfe215ff4",
   "metadata": {},
   "outputs": [
    {
     "name": "stdout",
     "output_type": "stream",
     "text": [
      "code with aalam\n",
      "<class 'str'>\n"
     ]
    }
   ],
   "source": [
    "data=\"code with aalam\"\n",
    "print(data)\n",
    "print(type(data))"
   ]
  },
  {
   "cell_type": "code",
   "execution_count": 6,
   "id": "11421faf-0bff-465d-a3f6-c0c1685ac0bf",
   "metadata": {},
   "outputs": [
    {
     "name": "stdout",
     "output_type": "stream",
     "text": [
      "your name is :  Aalam your age is  23\n",
      "your name is Aalam and age 23\n",
      "your name is Aalam,age 23\n"
     ]
    }
   ],
   "source": [
    "#format()\n",
    "name=\"Aalam\"\n",
    "age=23\n",
    "print(\"your name is : \",name,'your age is ',age)\n",
    "print(\"your name is {0} and age {1}\".format(name,age))\n",
    "print(f'your name is {name},age {age}')"
   ]
  },
  {
   "cell_type": "code",
   "execution_count": 8,
   "id": "448a716c-d1b8-4f06-9967-a3b2daf36b8f",
   "metadata": {},
   "outputs": [
    {
     "name": "stdout",
     "output_type": "stream",
     "text": [
      "WWW.CODESWITHPANKAJ\n",
      "www.codeswithpankaj\n",
      "('www.codeswithpankaj', '', '')\n",
      "@codeswithpankaj\n",
      "18\n"
     ]
    }
   ],
   "source": [
    "website = \"www.codeswithpankaj\"\n",
    "print(website.upper())\n",
    "print(website.lower())\n",
    "print(website.partition('-'))\n",
    "print(website.replace('www.','@'))\n",
    "print(website.find('j'))\n"
   ]
  },
  {
   "cell_type": "code",
   "execution_count": 12,
   "id": "8058e7a6-43a8-49b3-a1da-06e2cf5f8387",
   "metadata": {},
   "outputs": [
    {
     "name": "stdout",
     "output_type": "stream",
     "text": [
      "p4n.in this is website-\n",
      "['www', 'codeswithpankaj']\n",
      "True\n"
     ]
    }
   ],
   "source": [
    "data='p4n.in'\n",
    "print(data.rstrip(),'this is website-')\n",
    "print(website.split('.'))\n",
    "print(website.startswith('w'))"
   ]
  },
  {
   "cell_type": "code",
   "execution_count": 16,
   "id": "a9a71d91-d247-4d08-acad-983b4a46e76c",
   "metadata": {},
   "outputs": [
    {
     "name": "stdout",
     "output_type": "stream",
     "text": [
      "True\n",
      "False\n",
      "13\n"
     ]
    }
   ],
   "source": [
    "data=\"90\"\n",
    "print(data.isnumeric())\n",
    "print(website.isnumeric())\n",
    "print(website.index('p'))"
   ]
  }
 ],
 "metadata": {
  "kernelspec": {
   "display_name": "Python 3 (ipykernel)",
   "language": "python",
   "name": "python3"
  },
  "language_info": {
   "codemirror_mode": {
    "name": "ipython",
    "version": 3
   },
   "file_extension": ".py",
   "mimetype": "text/x-python",
   "name": "python",
   "nbconvert_exporter": "python",
   "pygments_lexer": "ipython3",
   "version": "3.12.7"
  }
 },
 "nbformat": 4,
 "nbformat_minor": 5
}
