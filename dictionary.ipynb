{
 "cells": [
  {
   "cell_type": "code",
   "execution_count": 2,
   "id": "b11fe545-ae24-4ec7-9cf0-c11cbe5792f5",
   "metadata": {},
   "outputs": [
    {
     "name": "stdout",
     "output_type": "stream",
     "text": [
      "{'name': 'joy'}\n"
     ]
    }
   ],
   "source": [
    "#Dictionary\n",
    "data={\"name\":\"joy\"}\n",
    "print(data)"
   ]
  },
  {
   "cell_type": "code",
   "execution_count": 6,
   "id": "ca789490-70c9-4f5c-9c52-926fbd4b8258",
   "metadata": {},
   "outputs": [
    {
     "name": "stdout",
     "output_type": "stream",
     "text": [
      "{'name': 'joy', 'age': 20, 'hight': 5.4}\n"
     ]
    }
   ],
   "source": [
    "data={\"name\":\"joy\",\"age\":20,\"hight\":5.4}\n",
    "print(data)"
   ]
  },
  {
   "cell_type": "code",
   "execution_count": 10,
   "id": "c15cea7b-708b-400d-a309-7b35097c0554",
   "metadata": {},
   "outputs": [
    {
     "name": "stdout",
     "output_type": "stream",
     "text": [
      "joy\n"
     ]
    }
   ],
   "source": [
    "#access data\n",
    "print(data['name'])"
   ]
  },
  {
   "cell_type": "code",
   "execution_count": 14,
   "id": "088f4e23-5f79-47b4-841f-dfb09c338957",
   "metadata": {},
   "outputs": [
    {
     "name": "stdout",
     "output_type": "stream",
     "text": [
      "{'name': 'joy', 'age': 20, 'hight': 5.4, 'city': 'mumbai'}\n",
      "{'name': 'joy', 'age': 20, 'hight': 5.4, 'city': 'mumbai', 'state': 'maharastra'}\n"
     ]
    }
   ],
   "source": [
    "data['city']=\"mumbai\"\n",
    "print(data)\n",
    "data[\"state\"]=\"maharastra\"\n",
    "print(data)\n"
   ]
  },
  {
   "cell_type": "code",
   "execution_count": 24,
   "id": "d6857fce-b679-4f3e-bbeb-06626bcd1776",
   "metadata": {},
   "outputs": [
    {
     "name": "stdout",
     "output_type": "stream",
     "text": [
      "name = joy\n",
      "age = 20\n",
      "hight = 5.4\n",
      "city = mumbai\n",
      "state = maharastra\n"
     ]
    }
   ],
   "source": [
    "for i in data:\n",
    "    print(i,'=',data[i])"
   ]
  }
 ],
 "metadata": {
  "kernelspec": {
   "display_name": "Python 3 (ipykernel)",
   "language": "python",
   "name": "python3"
  },
  "language_info": {
   "codemirror_mode": {
    "name": "ipython",
    "version": 3
   },
   "file_extension": ".py",
   "mimetype": "text/x-python",
   "name": "python",
   "nbconvert_exporter": "python",
   "pygments_lexer": "ipython3",
   "version": "3.12.7"
  }
 },
 "nbformat": 4,
 "nbformat_minor": 5
}
