{
 "cells": [
  {
   "cell_type": "code",
   "execution_count": 8,
   "id": "b11fe545-ae24-4ec7-9cf0-c11cbe5792f5",
   "metadata": {},
   "outputs": [
    {
     "name": "stdin",
     "output_type": "stream",
     "text": [
      "enter your name ashwin\n",
      "enter your age 20\n",
      "enter your height 5.4\n"
     ]
    },
    {
     "name": "stdout",
     "output_type": "stream",
     "text": [
      "my name is : ashwin,age20 and height5.4\n"
     ]
    }
   ],
   "source": [
    "#Exception handling in python \n",
    "name=input(\"enter your name\")\n",
    "age=input(\"enter your age\")\n",
    "height=input(\"enter your height\")\n",
    "print(f'my name is : {name},age{age} and height{height}')\n"
   ]
  },
  {
   "cell_type": "code",
   "execution_count": 10,
   "id": "6974a21e-5d31-4e64-ae55-2afecd4a5552",
   "metadata": {},
   "outputs": [
    {
     "name": "stdin",
     "output_type": "stream",
     "text": [
      "enter your name ashwin\n",
      "enter your age 20\n",
      "enter height 5.4\n"
     ]
    },
    {
     "name": "stdout",
     "output_type": "stream",
     "text": [
      "my name isashwin,age20,height5.4\n"
     ]
    }
   ],
   "source": [
    "name=str(input('enter your name'))\n",
    "age=int(input('enter your age'))\n",
    "height=float(input('enter height'))\n",
    "print(f'my name is{name},age{age},height{height}')"
   ]
  },
  {
   "cell_type": "code",
   "execution_count": null,
   "id": "985acb47-9556-4014-a35a-2fc4356c14cc",
   "metadata": {},
   "outputs": [],
   "source": []
  }
 ],
 "metadata": {
  "kernelspec": {
   "display_name": "Python 3 (ipykernel)",
   "language": "python",
   "name": "python3"
  },
  "language_info": {
   "codemirror_mode": {
    "name": "ipython",
    "version": 3
   },
   "file_extension": ".py",
   "mimetype": "text/x-python",
   "name": "python",
   "nbconvert_exporter": "python",
   "pygments_lexer": "ipython3",
   "version": "3.12.7"
  }
 },
 "nbformat": 4,
 "nbformat_minor": 5
}
