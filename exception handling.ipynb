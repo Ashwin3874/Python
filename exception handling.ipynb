{
 "cells": [
  {
   "cell_type": "code",
   "execution_count": 8,
   "id": "b11fe545-ae24-4ec7-9cf0-c11cbe5792f5",
   "metadata": {},
   "outputs": [
    {
     "name": "stdin",
     "output_type": "stream",
     "text": [
      "enter your name ashwin\n",
      "enter your age 20\n",
      "enter your height 5.4\n"
     ]
    },
    {
     "name": "stdout",
     "output_type": "stream",
     "text": [
      "my name is : ashwin,age20 and height5.4\n"
     ]
    }
   ],
   "source": [
    "#Exception handling in python \n",
    "name=input(\"enter your name\")\n",
    "age=input(\"enter your age\")\n",
    "height=input(\"enter your height\")\n",
    "print(f'my name is : {name},age{age} and height{height}')\n"
   ]
  },
  {
   "cell_type": "code",
   "execution_count": 10,
   "id": "6974a21e-5d31-4e64-ae55-2afecd4a5552",
   "metadata": {},
   "outputs": [
    {
     "name": "stdin",
     "output_type": "stream",
     "text": [
      "enter your name ashwin\n",
      "enter your age 20\n",
      "enter height 5.4\n"
     ]
    },
    {
     "name": "stdout",
     "output_type": "stream",
     "text": [
      "my name isashwin,age20,height5.4\n"
     ]
    }
   ],
   "source": [
    "name=str(input('enter your name'))\n",
    "age=int(input('enter your age'))\n",
    "height=float(input('enter height'))\n",
    "print(f'my name is{name},age{age},height{height}')"
   ]
  },
  {
   "cell_type": "code",
   "execution_count": 4,
   "id": "985acb47-9556-4014-a35a-2fc4356c14cc",
   "metadata": {},
   "outputs": [
    {
     "name": "stdin",
     "output_type": "stream",
     "text": [
      "enter your name ... ashwin\n",
      "enter your age ... 20\n",
      "enter your height ... 5.4\n"
     ]
    },
    {
     "name": "stdout",
     "output_type": "stream",
     "text": [
      "my name is ashwin , age 20 and height 5.4\n"
     ]
    }
   ],
   "source": [
    "try:\n",
    "    name=str(input('enter your name ...'))\n",
    "    age=int(input('enter your age ...'))\n",
    "    height=float(input('enter your height ...'))\n",
    "    print(f'my name is {name} , age {age} and height {height}')\n",
    "except valueError:\n",
    "    print('enter only number')"
   ]
  },
  {
   "cell_type": "code",
   "execution_count": 10,
   "id": "236a298a-c806-4eeb-9c89-d2709b35a09f",
   "metadata": {},
   "outputs": [
    {
     "name": "stdin",
     "output_type": "stream",
     "text": [
      "enter your name ... ashwin\n",
      "enter your age .... 20\n",
      "enter your height ... 5.4\n"
     ]
    },
    {
     "name": "stdout",
     "output_type": "stream",
     "text": [
      "my name is ashwin, age is 20 and height is 5.4\n",
      "BMI is:- 3.7037037037037033\n"
     ]
    }
   ],
   "source": [
    "try: \n",
    "    name=str(input('enter your name ...'))\n",
    "    age= int(input('enter your age ....'))\n",
    "    height = float(input('enter your height ...'))\n",
    "    print(f'my name is {name}, age is {age} and height is {height}')\n",
    "    BMI = age/height\n",
    "    print(f'BMI is:- {BMI}')\n",
    "except valueError:\n",
    "    print('enter only number')\n",
    "except ZeroDivisionError:\n",
    "    print('enter number more then zero (do not enter zero)')\n"
   ]
  },
  {
   "cell_type": "code",
   "execution_count": 12,
   "id": "7eba81e5-d2ed-42fc-99dd-0504e60fad6f",
   "metadata": {},
   "outputs": [
    {
     "name": "stdin",
     "output_type": "stream",
     "text": [
      "enter your name ... ashwin\n",
      "enter your age.... 20\n",
      "enter your height.. 5.4\n"
     ]
    },
    {
     "name": "stdout",
     "output_type": "stream",
     "text": [
      "my name is ashwin,my age is20 and height5.4\n",
      "BMI is 3.7037037037037033\n"
     ]
    }
   ],
   "source": [
    "try:\n",
    "    name=str(input('enter your name ...'))\n",
    "    age=int(input('enter your age....'))\n",
    "    height=float(input('enter your height..'))\n",
    "    print(f'my name is {name},my age is{age} and height{height}')\n",
    "    BMI=age/height\n",
    "    print(f'BMI is {BMI}')\n",
    "except Exception:\n",
    "    print('this is err..')"
   ]
  },
  {
   "cell_type": "code",
   "execution_count": null,
   "id": "21a9a2fa-7a62-44f8-af0e-1e59ab123947",
   "metadata": {},
   "outputs": [],
   "source": []
  }
 ],
 "metadata": {
  "kernelspec": {
   "display_name": "Python 3 (ipykernel)",
   "language": "python",
   "name": "python3"
  },
  "language_info": {
   "codemirror_mode": {
    "name": "ipython",
    "version": 3
   },
   "file_extension": ".py",
   "mimetype": "text/x-python",
   "name": "python",
   "nbconvert_exporter": "python",
   "pygments_lexer": "ipython3",
   "version": "3.12.7"
  }
 },
 "nbformat": 4,
 "nbformat_minor": 5
}
