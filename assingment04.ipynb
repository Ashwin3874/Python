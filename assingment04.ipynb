{
 "cells": [
  {
   "cell_type": "code",
   "execution_count": null,
   "id": "7896139f",
   "metadata": {},
   "outputs": [
    {
     "name": "stdout",
     "output_type": "stream",
     "text": [
      "100\n",
      "16\n",
      "2436\n",
      "1.380952380952381\n"
     ]
    }
   ],
   "source": [
    "#assingment no 4\n",
    "#1.Write a Python script that declares two variables, num1 and num2, assigns them with integer values, and then performs basic arithmetic operations such as addition, subtraction, multiplication, and division using these variables.\n",
    "a,b=58,42\n",
    "print(a+b)\n",
    "print(a-b)\n",
    "print(a*b)\n",
    "print(a/b)\n"
   ]
  },
  {
   "cell_type": "code",
   "execution_count": 2,
   "id": "03d208b8",
   "metadata": {},
   "outputs": [
    {
     "name": "stdout",
     "output_type": "stream",
     "text": [
      "result is : 73.4\n"
     ]
    }
   ],
   "source": [
    "#2.Create a Python program that prompts the user to enter a temperature in Celsius, stores it in a variable, and then converts it to Fahrenheit using the formula (Celsius * 9/5) + 32. Display the result.\n",
    "temperature = int(input(\"enter temperature in celcusis\"))\n",
    "t=temperature\n",
    "result=(t*9/5)+32\n",
    "print(\"result is :\",result)"
   ]
  },
  {
   "cell_type": "code",
   "execution_count": null,
   "id": "5ec3eaff",
   "metadata": {},
   "outputs": [
    {
     "name": "stdout",
     "output_type": "stream",
     "text": [
      "result: ('ashwin', 'kannaujiya')\n"
     ]
    }
   ],
   "source": [
    "#3.Write a Python script that declares two string variables and concatenates them together. Prompt the user to enter their first name and last name separately, then concatenate them and print out the full name.\n",
    "firstname=input(\"enter first name\")\n",
    "lastname=input(\"enter last name\")\n",
    "result=firstname,lastname\n",
    "print(\"result:\",result)\n"
   ]
  },
  {
   "cell_type": "code",
   "execution_count": 1,
   "id": "c2a174de",
   "metadata": {},
   "outputs": [
    {
     "name": "stdout",
     "output_type": "stream",
     "text": [
      "area: 11.25\n"
     ]
    }
   ],
   "source": [
    "#5.Write a Python program that calculates the area of a triangle. Prompt the user to enter the base and height of the triangle. Use the formula Area = (base * height) / 2 and display the result.\n",
    "Base=int(input(\"enter the base\"))\n",
    "height =float(input(\"enter the height\"))\n",
    "area=(Base*height)/2\n",
    "print(\"area:\",area)\n"
   ]
  },
  {
   "cell_type": "code",
   "execution_count": 5,
   "id": "621276fb",
   "metadata": {},
   "outputs": [
    {
     "name": "stdout",
     "output_type": "stream",
     "text": [
      "currentage: 20\n"
     ]
    }
   ],
   "source": [
    "#6.Create a Python script that prompts the user to enter their birth year and stores it in a variable. Calculate the user's age based on the current year and print out the result.\n",
    "DOB = int(input(\"enter your DOB\"))\n",
    "currentyear=int(input(\"enter your currentyear\"))\n",
    "currentage=( currentyear- DOB)\n",
    "print(\"currentage:\",currentage)\n",
    "\n"
   ]
  },
  {
   "cell_type": "code",
   "execution_count": 4,
   "id": "d90c13b1",
   "metadata": {},
   "outputs": [
    {
     "name": "stdout",
     "output_type": "stream",
     "text": [
      "BMI: 1.9390581717451523\n"
     ]
    }
   ],
   "source": [
    "#4.Develop a Python program that calculates Body Mass Index (BMI). Prompt the user to enter their weight in kilograms and height in meters. Calculate BMI using the formula BMI = weight / (height * height). Print out the BMI.\n",
    "weight=int(input(\"enter your weight\"))\n",
    "height=float(input(\"enter your height\"))\n",
    "BMI=weight/(height*height)\n",
    "print(\"BMI:\",BMI)\n"
   ]
  },
  {
   "cell_type": "code",
   "execution_count": null,
   "id": "8cfc76be",
   "metadata": {},
   "outputs": [],
   "source": [
    "#7. Even or Odd\t| Write a Python program that prompts the user to enter an integer and checks whether it's even or odd. Print out the result.\n"
   ]
  },
  {
   "cell_type": "code",
   "execution_count": 26,
   "id": "0cbe3216-1391-4cf8-80ce-10d7a9fc6f80",
   "metadata": {},
   "outputs": [
    {
     "ename": "SyntaxError",
     "evalue": "incomplete input (1774612797.py, line 13)",
     "output_type": "error",
     "traceback": [
      "\u001b[1;36m  Cell \u001b[1;32mIn[26], line 13\u001b[1;36m\u001b[0m\n\u001b[1;33m    \u001b[0m\n\u001b[1;37m    ^\u001b[0m\n\u001b[1;31mSyntaxError\u001b[0m\u001b[1;31m:\u001b[0m incomplete input\n"
     ]
    }
   ],
   "source": [
    "#8. Grade Calculator | Develop a Python script that takes in the scores of three tests (out of 100) and stores them in variables. Calculate the average score and print it out. Then, based on the average score, assign a letter grade (A, B, C, D, or F) and print it out.\n",
    "english=int(input(\"enter your marks\"))\n",
    "hindi=int(input(\"enter your marks\"))\n",
    "marathi=int(input(\"enter your marks\"))\n",
    "science=int(input(\"enter your marks\"))\n",
    "maths=int(input(\"enter your marks\"))\n",
    "history=int(input(\"enter your marks\"))\n",
    "total=english+hindi+marathi+science+maths+history\n",
    "print(f'english:-{english},hindi:-{hindi},marathi:-{marathi},science:-{science},maths:-{maths},history/geo:-{history},total:-{total}')\n",
    "for i in range():\n",
    "    \n",
    "    \n",
    "    "
   ]
  },
  {
   "cell_type": "code",
   "execution_count": null,
   "id": "75eea390-a7ad-49ae-be90-861e944653de",
   "metadata": {},
   "outputs": [],
   "source": []
  }
 ],
 "metadata": {
  "kernelspec": {
   "display_name": "Python 3 (ipykernel)",
   "language": "python",
   "name": "python3"
  },
  "language_info": {
   "codemirror_mode": {
    "name": "ipython",
    "version": 3
   },
   "file_extension": ".py",
   "mimetype": "text/x-python",
   "name": "python",
   "nbconvert_exporter": "python",
   "pygments_lexer": "ipython3",
   "version": "3.12.7"
  }
 },
 "nbformat": 4,
 "nbformat_minor": 5
}
