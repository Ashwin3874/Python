{
 "cells": [
  {
   "cell_type": "code",
   "execution_count": 2,
   "id": "f596f0d7-f669-4785-93f6-bc0abbb9acb7",
   "metadata": {},
   "outputs": [
    {
     "name": "stdout",
     "output_type": "stream",
     "text": [
      "(24, 23, 56, 65, 48)\n",
      "<class 'tuple'>\n"
     ]
    }
   ],
   "source": [
    "#tuple in python\n",
    "data=(24,23,56,65,48)\n",
    "print(data)\n",
    "#check type\n",
    "print(type(data))\n"
   ]
  },
  {
   "cell_type": "code",
   "execution_count": 8,
   "id": "d2784580-57fa-4b49-9d74-215cf8013159",
   "metadata": {},
   "outputs": [
    {
     "name": "stdout",
     "output_type": "stream",
     "text": [
      "56\n",
      "(65, 48)\n",
      "(24, 23, 56, 65)\n",
      "(65, 48)\n",
      "(24, 23, 56, 65, 48)\n"
     ]
    }
   ],
   "source": [
    "print(data[2])\n",
    "print(data[3:5])\n",
    "print(data[:4])\n",
    "print(data[3:])\n",
    "print(data[:])\n",
    "      \n",
    "      "
   ]
  },
  {
   "cell_type": "code",
   "execution_count": 14,
   "id": "4d73f570-db92-4e9f-8425-9d1ffaafb29b",
   "metadata": {},
   "outputs": [
    {
     "name": "stdout",
     "output_type": "stream",
     "text": [
      "2\n"
     ]
    }
   ],
   "source": [
    "#count()\n",
    "data=(11,11,13,13,15,16,17,18,19)\n",
    "print(data.count(11))\n"
   ]
  },
  {
   "cell_type": "code",
   "execution_count": 18,
   "id": "f3c9bca4-5e0c-42d1-af75-2b7308005ceb",
   "metadata": {},
   "outputs": [
    {
     "name": "stdout",
     "output_type": "stream",
     "text": [
      "0\n"
     ]
    }
   ],
   "source": [
    "#index()\n",
    "print(data.index(11))\n"
   ]
  },
  {
   "cell_type": "code",
   "execution_count": null,
   "id": "1dcfb14d-b80e-49d9-83e4-9a48a2b65da8",
   "metadata": {},
   "outputs": [],
   "source": []
  }
 ],
 "metadata": {
  "kernelspec": {
   "display_name": "Python 3 (ipykernel)",
   "language": "python",
   "name": "python3"
  },
  "language_info": {
   "codemirror_mode": {
    "name": "ipython",
    "version": 3
   },
   "file_extension": ".py",
   "mimetype": "text/x-python",
   "name": "python",
   "nbconvert_exporter": "python",
   "pygments_lexer": "ipython3",
   "version": "3.12.7"
  }
 },
 "nbformat": 4,
 "nbformat_minor": 5
}
