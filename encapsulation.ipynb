{
 "cells": [
  {
   "cell_type": "code",
   "execution_count": 20,
   "id": "066ef784-11c5-464b-b08f-2fd4df726bc3",
   "metadata": {},
   "outputs": [],
   "source": [
    "class creditcard:\n",
    "    def __init__(self, cardname,creditlimit,customername):\n",
    "        self.cardname=cardname\n",
    "        self.creditlimit=creditlimit\n",
    "        self.customername=customername\n",
    "    def get_cardname(self):\n",
    "        return self.cardname\n",
    "    def get_creditlimit(self):\n",
    "        return self.creditlimit\n",
    "    def get_customername(self):\n",
    "        return self.customername"
   ]
  },
  {
   "cell_type": "code",
   "execution_count": 22,
   "id": "21143b97-f7df-470c-a9ce-195fa098ba7f",
   "metadata": {},
   "outputs": [
    {
     "name": "stdout",
     "output_type": "stream",
     "text": [
      "customer name JOY\n",
      "customer cardname HDFC \n",
      "customer creditlimit 550000\n"
     ]
    }
   ],
   "source": [
    "cd = creditcard(\"HDFC \",550000,\"JOY\")\n",
    "print(f'customer name {cd.get_customername()}')\n",
    "print(f'customer cardname {cd.get_cardname()}')\n",
    "print(f'customer creditlimit {cd.get_creditlimit()}')\n"
   ]
  },
  {
   "cell_type": "code",
   "execution_count": null,
   "id": "9f7b5388-d34b-484a-ac6c-2b2c3d83955e",
   "metadata": {},
   "outputs": [],
   "source": []
  }
 ],
 "metadata": {
  "kernelspec": {
   "display_name": "Python 3 (ipykernel)",
   "language": "python",
   "name": "python3"
  },
  "language_info": {
   "codemirror_mode": {
    "name": "ipython",
    "version": 3
   },
   "file_extension": ".py",
   "mimetype": "text/x-python",
   "name": "python",
   "nbconvert_exporter": "python",
   "pygments_lexer": "ipython3",
   "version": "3.12.7"
  }
 },
 "nbformat": 4,
 "nbformat_minor": 5
}
