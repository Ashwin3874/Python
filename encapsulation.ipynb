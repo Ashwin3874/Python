{
 "cells": [
  {
   "cell_type": "code",
   "execution_count": 25,
   "id": "066ef784-11c5-464b-b08f-2fd4df726bc3",
   "metadata": {},
   "outputs": [],
   "source": [
    "class creditcard:\n",
    "    def __init__(self, cardname,creditlimit,customername):\n",
    "        self.cardname=cardname\n",
    "        self.creditlimit=creditlimit\n",
    "        self.customername=customername\n",
    "    def get_cardname(self):\n",
    "        return self.cardname\n",
    "    def get_creditlimit(self):\n",
    "        return self.creditlimit\n",
    "    def get_customername(self):\n",
    "        return self.customername"
   ]
  },
  {
   "cell_type": "code",
   "execution_count": 27,
   "id": "21143b97-f7df-470c-a9ce-195fa098ba7f",
   "metadata": {},
   "outputs": [
    {
     "ename": "NameError",
     "evalue": "name 'Creditcard' is not defined",
     "output_type": "error",
     "traceback": [
      "\u001b[1;31m---------------------------------------------------------------------------\u001b[0m",
      "\u001b[1;31mNameError\u001b[0m                                 Traceback (most recent call last)",
      "Cell \u001b[1;32mIn[27], line 1\u001b[0m\n\u001b[1;32m----> 1\u001b[0m cd \u001b[38;5;241m=\u001b[39m Creditcard(\u001b[38;5;124m\"\u001b[39m\u001b[38;5;124mHDFC\u001b[39m\u001b[38;5;124m\"\u001b[39m,\u001b[38;5;241m4000\u001b[39m,\u001b[38;5;124m\"\u001b[39m\u001b[38;5;124mjoy\u001b[39m\u001b[38;5;124m\"\u001b[39m)\n\u001b[0;32m      2\u001b[0m \u001b[38;5;28mprint\u001b[39m(\u001b[38;5;124mf\u001b[39m\u001b[38;5;124m'\u001b[39m\u001b[38;5;124mcustomer name \u001b[39m\u001b[38;5;132;01m{\u001b[39;00mcd\u001b[38;5;241m.\u001b[39mget_customername()\u001b[38;5;132;01m}\u001b[39;00m\u001b[38;5;124m'\u001b[39m)\n\u001b[0;32m      3\u001b[0m \u001b[38;5;28mprint\u001b[39m(\u001b[38;5;124mf\u001b[39m\u001b[38;5;124m'\u001b[39m\u001b[38;5;124mcustomer cardname \u001b[39m\u001b[38;5;132;01m{\u001b[39;00mcd\u001b[38;5;241m.\u001b[39mget_cardname()\u001b[38;5;132;01m}\u001b[39;00m\u001b[38;5;124m'\u001b[39m)\n",
      "\u001b[1;31mNameError\u001b[0m: name 'Creditcard' is not defined"
     ]
    }
   ],
   "source": [
    "cd = Creditcard(\"HDFC\",4000,\"joy\")\n",
    "print(f'customer name {cd.get_customername()}')\n",
    "print(f'customer cardname {cd.get_cardname()}')\n",
    "print(f'customer creditlimit {cd.get_creditlimit()}')"
   ]
  },
  {
   "cell_type": "code",
   "execution_count": null,
   "id": "d6fff06b-f82f-49af-a6d3-2e766b2f4c61",
   "metadata": {},
   "outputs": [],
   "source": []
  }
 ],
 "metadata": {
  "kernelspec": {
   "display_name": "Python 3 (ipykernel)",
   "language": "python",
   "name": "python3"
  },
  "language_info": {
   "codemirror_mode": {
    "name": "ipython",
    "version": 3
   },
   "file_extension": ".py",
   "mimetype": "text/x-python",
   "name": "python",
   "nbconvert_exporter": "python",
   "pygments_lexer": "ipython3",
   "version": "3.12.7"
  }
 },
 "nbformat": 4,
 "nbformat_minor": 5
}
