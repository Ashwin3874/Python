{
 "cells": [
  {
   "cell_type": "code",
   "execution_count": 1,
   "id": "d68890fe",
   "metadata": {},
   "outputs": [
    {
     "name": "stdout",
     "output_type": "stream",
     "text": [
      "100\n"
     ]
    }
   ],
   "source": [
    "x = 100\n",
    "print(x)\n"
   ]
  },
  {
   "cell_type": "code",
   "execution_count": 3,
   "id": "b689bf88",
   "metadata": {},
   "outputs": [
    {
     "name": "stdout",
     "output_type": "stream",
     "text": [
      "my result is: 100 45 60\n"
     ]
    }
   ],
   "source": [
    "a = 100\n",
    "b = 45\n",
    "c = 4+56\n",
    "print(\"my result is:\",a,b,c)\n",
    "\n"
   ]
  },
  {
   "cell_type": "code",
   "execution_count": 8,
   "id": "9a55a617",
   "metadata": {},
   "outputs": [
    {
     "name": "stdout",
     "output_type": "stream",
     "text": [
      "my name is :  ashwin\n",
      "my age is :  20\n",
      "my height is :  5.4\n"
     ]
    }
   ],
   "source": [
    "name = \"ashwin\"\n",
    "age = 20\n",
    "height = 5.4\n",
    "print(\"my name is : \",name)\n",
    "print(\"my age is : \",age)\n",
    "print(\"my height is : \",height)\n",
    "      \n",
    "      "
   ]
  },
  {
   "cell_type": "code",
   "execution_count": 9,
   "id": "d25e44b9",
   "metadata": {},
   "outputs": [
    {
     "name": "stdout",
     "output_type": "stream",
     "text": [
      "<class 'str'>\n",
      "<class 'int'>\n",
      "<class 'float'>\n"
     ]
    }
   ],
   "source": [
    "print(type(name))\n",
    "print(type(age))\n",
    "print(type(height))\n"
   ]
  },
  {
   "cell_type": "code",
   "execution_count": 10,
   "id": "d9083ee8",
   "metadata": {},
   "outputs": [
    {
     "name": "stdout",
     "output_type": "stream",
     "text": [
      "123\n",
      "134\n",
      "456\n"
     ]
    }
   ],
   "source": [
    "a , b , c = 123, 134, 456\n",
    "print(a)\n",
    "print(b)\n",
    "print(c)\n"
   ]
  },
  {
   "cell_type": "code",
   "execution_count": 11,
   "id": "da44ceeb",
   "metadata": {},
   "outputs": [
    {
     "name": "stdout",
     "output_type": "stream",
     "text": [
      "5000\n"
     ]
    }
   ],
   "source": [
    "a = 5698-698\n",
    "print(a)\n"
   ]
  },
  {
   "cell_type": "code",
   "execution_count": null,
   "id": "23e4c425",
   "metadata": {},
   "outputs": [
    {
     "name": "stdout",
     "output_type": "stream",
     "text": [
      "79.0\n"
     ]
    }
   ],
   "source": [
    "a  = 4+5+98-56/2\n",
    "print(a)\n"
   ]
  },
  {
   "cell_type": "code",
   "execution_count": 2,
   "id": "57ab9361",
   "metadata": {},
   "outputs": [
    {
     "name": "stdout",
     "output_type": "stream",
     "text": [
      "abcdefghijklmnopqrstuvwxyz\n",
      "abcdefghijklmnopqrstuvwxyz\n",
      "abcdefghijklmnopqrstuvwxyz\n",
      "abcdefghijklmnopqrstuvwxyz\n",
      "abcdefghijklmnopqrstuvwxyz\n",
      "abcdefghijklmnopqrstuvwxyz\n",
      "abcdefghijklmnopqrstuvwxyz\n",
      "abcdefghijklmnopqrstuvwxyz\n",
      "abcdefghijklmnopqrstuvwxyz\n",
      "abcdefghijklmnopqrstuvwxyz\n",
      "abcdefghijklmnopqrstuvwxyz\n"
     ]
    }
   ],
   "source": [
    "print(\"abcdefghijklmnopqrstuvwxyz\")\n",
    "print(\"abcdefghijklmnopqrstuvwxyz\")\n",
    "print(\"abcdefghijklmnopqrstuvwxyz\")\n",
    "print(\"abcdefghijklmnopqrstuvwxyz\")\n",
    "print(\"abcdefghijklmnopqrstuvwxyz\")\n",
    "print(\"abcdefghijklmnopqrstuvwxyz\")\n",
    "print(\"abcdefghijklmnopqrstuvwxyz\")\n",
    "print(\"abcdefghijklmnopqrstuvwxyz\")\n",
    "print(\"abcdefghijklmnopqrstuvwxyz\")\n",
    "print(\"abcdefghijklmnopqrstuvwxyz\")\n",
    "print(\"abcdefghijklmnopqrstuvwxyz\")\n"
   ]
  },
  {
   "cell_type": "code",
   "execution_count": 3,
   "id": "0c2b9e16",
   "metadata": {},
   "outputs": [
    {
     "name": "stdout",
     "output_type": "stream",
     "text": [
      "12345678910\n",
      "12345678910\n",
      "12345678910\n",
      "12345678910\n",
      "12345678910\n",
      "12345678910\n",
      "12345678910\n",
      "12345678910\n",
      "12345678910\n",
      "12345678910\n"
     ]
    }
   ],
   "source": [
    "print(\"12345678910\")\n",
    "print(\"12345678910\")\n",
    "print(\"12345678910\")\n",
    "print(\"12345678910\")\n",
    "print(\"12345678910\")\n",
    "print(\"12345678910\")\n",
    "print(\"12345678910\")\n",
    "print(\"12345678910\")\n",
    "print(\"12345678910\")\n",
    "print(\"12345678910\")\n",
    "\n"
   ]
  },
  {
   "cell_type": "code",
   "execution_count": 5,
   "id": "676cfc3f",
   "metadata": {},
   "outputs": [
    {
     "name": "stdout",
     "output_type": "stream",
     "text": [
      "12345678910\n",
      "12345678910\n",
      "12345678910\n",
      "12345678910\n",
      "12345678910\n",
      "12345678910\n",
      "12345678910\n",
      "12345678910\n",
      "12345678910\n",
      "12345678910\n"
     ]
    }
   ],
   "source": [
    "print(\"12345678910\")\n",
    "print(\"12345678910\")\n",
    "print(\"12345678910\")\n",
    "print(\"12345678910\")\n",
    "print(\"12345678910\")\n",
    "print(\"12345678910\")\n",
    "print(\"12345678910\")\n",
    "print(\"12345678910\")\n",
    "print(\"12345678910\")\n",
    "print(\"12345678910\")\n",
    "\n"
   ]
  },
  {
   "cell_type": "code",
   "execution_count": 6,
   "id": "ff011f4c",
   "metadata": {},
   "outputs": [
    {
     "name": "stdout",
     "output_type": "stream",
     "text": [
      "57.833333333333336\n"
     ]
    }
   ],
   "source": [
    "x = 347/600*100\n",
    "print(x)\n"
   ]
  },
  {
   "cell_type": "code",
   "execution_count": 14,
   "id": "7df0776a",
   "metadata": {},
   "outputs": [
    {
     "name": "stdout",
     "output_type": "stream",
     "text": [
      "365654\n"
     ]
    }
   ],
   "source": [
    "x = 365654\n",
    "print(x)"
   ]
  },
  {
   "cell_type": "code",
   "execution_count": 15,
   "id": "76e542a0",
   "metadata": {},
   "outputs": [
    {
     "name": "stdout",
     "output_type": "stream",
     "text": [
      "<class 'int'>\n"
     ]
    }
   ],
   "source": [
    "print(type(x))\n",
    "\n",
    "\n"
   ]
  },
  {
   "cell_type": "code",
   "execution_count": 16,
   "id": "37facb5e",
   "metadata": {},
   "outputs": [
    {
     "name": "stdout",
     "output_type": "stream",
     "text": [
      "less\n"
     ]
    }
   ],
   "source": [
    "x = 5\n",
    "if x > 10:\n",
    "    print(\"high\")\n",
    "else:\n",
    "    print(\"less\")\n",
    "    "
   ]
  },
  {
   "cell_type": "code",
   "execution_count": 17,
   "id": "29e7ba63",
   "metadata": {},
   "outputs": [
    {
     "name": "stdout",
     "output_type": "stream",
     "text": [
      "greater than 3\n"
     ]
    }
   ],
   "source": [
    "x=5\n",
    "if x>10:\n",
    "    print(\"greater than 10\")\n",
    "elif x>3:\n",
    "    print(\"greater than 3\")\n",
    "else:\n",
    "    print(\"3 or less\")"
   ]
  },
  {
   "cell_type": "code",
   "execution_count": 18,
   "id": "49f4aec7",
   "metadata": {},
   "outputs": [
    {
     "name": "stdout",
     "output_type": "stream",
     "text": [
      "-9840\n"
     ]
    }
   ],
   "source": [
    "k=120\n",
    "l=-82\n",
    "result = int(k)*int(l)\n",
    "print(result)\n"
   ]
  },
  {
   "cell_type": "code",
   "execution_count": 19,
   "id": "736fd769",
   "metadata": {},
   "outputs": [
    {
     "name": "stdout",
     "output_type": "stream",
     "text": [
      "224\n"
     ]
    }
   ],
   "source": [
    "v=56\n",
    "g=4\n",
    "print(v*g)\n"
   ]
  },
  {
   "cell_type": "code",
   "execution_count": 20,
   "id": "595c51c8",
   "metadata": {},
   "outputs": [
    {
     "name": "stdout",
     "output_type": "stream",
     "text": [
      "a\n",
      "b\n",
      "c\n"
     ]
    }
   ],
   "source": [
    "fruits=[\"apple\",\"banana\",\"cherry\"]\n",
    "for i in range(len(fruits)):\n",
    "    print(fruits[i][0])\n",
    "    "
   ]
  },
  {
   "cell_type": "code",
   "execution_count": 21,
   "id": "ee9beb72",
   "metadata": {},
   "outputs": [
    {
     "name": "stdout",
     "output_type": "stream",
     "text": [
      "None\n"
     ]
    }
   ],
   "source": [
    "a={1,2,3,4}\n",
    "b=a.add(5)\n",
    "print(b)\n"
   ]
  },
  {
   "cell_type": "code",
   "execution_count": 22,
   "id": "c9f213a2",
   "metadata": {},
   "outputs": [
    {
     "name": "stdout",
     "output_type": "stream",
     "text": [
      "False\n"
     ]
    }
   ],
   "source": [
    "k=(1,2,3,4,5,6)\n",
    "a=(1,2,3,4,5,7)\n",
    "print(k>a)\n"
   ]
  },
  {
   "cell_type": "code",
   "execution_count": 6,
   "id": "3f7174fa",
   "metadata": {},
   "outputs": [],
   "source": [
    "name = input(\"enter your name - \")\n",
    "english = int(input(\"enter english marks\"))\n",
    "hindi = int(input(\"enter hindi marks\"))\n",
    "marathi = int(input(\"enter marathi marks\"))\n",
    "science = int(input(\"enter scince marks\"))\n",
    "maths = int(input(\"enter maths marks\"))\n",
    "total = english+hindi+marathi+science+maths\n"
   ]
  },
  {
   "cell_type": "code",
   "execution_count": 7,
   "id": "87d31ff9",
   "metadata": {},
   "outputs": [
    {
     "name": "stdout",
     "output_type": "stream",
     "text": [
      "name ashwin\n",
      "english 34\n",
      "hindi 45\n",
      "marathi 56\n",
      "science 34\n",
      "maths 56\n",
      "total marks is: 225\n"
     ]
    }
   ],
   "source": [
    "print(\"name\",name)\n",
    "print(\"english\",english)\n",
    "print(\"hindi\",hindi)\n",
    "print(\"marathi\",marathi)\n",
    "print(\"science\",science)\n",
    "print(\"maths\",maths)\n",
    "print(\"total marks is:\",total)\n"
   ]
  },
  {
   "cell_type": "code",
   "execution_count": 1,
   "id": "786295b8",
   "metadata": {},
   "outputs": [],
   "source": [
    "name = input(\"enter your name - \")\n",
    "eng = int(input(\"enter eng marks\"))\n",
    "hin = int(input(\"enter hin marks\"))\n",
    "maths1 = int(input(\"enter maths1 marks\"))\n",
    "maths2 = int(input(\"enter maths2 marks\"))\n",
    "science = int(input(\"enter science marks\"))\n",
    "total = eng+hin+maths1+maths2+science"
   ]
  },
  {
   "cell_type": "code",
   "execution_count": 2,
   "id": "f1ad8e6c",
   "metadata": {},
   "outputs": [
    {
     "name": "stdout",
     "output_type": "stream",
     "text": [
      "name ashwin\n",
      "eng 23\n",
      "hin 34\n",
      "maths1 34\n",
      "maths2 45\n",
      "science 565\n",
      "total marks is: 701\n"
     ]
    }
   ],
   "source": [
    "print(\"name\",name)\n",
    "print(\"eng\",eng)\n",
    "print(\"hin\",hin)\n",
    "print(\"maths1\",maths1)\n",
    "print(\"maths2\",maths2)\n",
    "print(\"science\",science)\n",
    "print(\"total marks is:\",total)\n"
   ]
  },
  {
   "cell_type": "code",
   "execution_count": 3,
   "id": "a6d6cd71",
   "metadata": {},
   "outputs": [
    {
     "name": "stdout",
     "output_type": "stream",
     "text": [
      "name: raj\n",
      "basic: 23\n",
      "da: 45\n",
      "hra: 3654\n",
      "gross_salary: 3722\n",
      "pf: 56\n",
      "net salary: 3666\n"
     ]
    }
   ],
   "source": [
    "name = input(\"enter your name\")\n",
    "basic = int(input(\"enter your basic\"))\n",
    "da = int(input(\"enter da\"))\n",
    "hra = int(input(\"enter hra\"))\n",
    "gross_salary =basic+da+hra\n",
    "pf = int(input(\"enter pf\"))\n",
    "net_salary = gross_salary-pf\n",
    "print(\"name:\",name) \n",
    "print(\"basic:\",basic)\n",
    "print(\"da:\",da)\n",
    "print(\"hra:\",hra)\n",
    "print(\"gross_salary:\",gross_salary)\n",
    "print(\"pf:\",pf)\n",
    "print(\"net salary:\",net_salary)"
   ]
  },
  {
   "cell_type": "code",
   "execution_count": 2,
   "id": "f288d7b2",
   "metadata": {},
   "outputs": [
    {
     "name": "stdout",
     "output_type": "stream",
     "text": [
      "my name is: ashwin\n",
      "my gender is: male\n",
      "my height is: 5.4\n",
      "my age is: 20\n"
     ]
    }
   ],
   "source": [
    "name =\"ashwin\"\n",
    "gender = \"male\"\n",
    "height = 5.4\n",
    "age = 20\n",
    "print(\"my name is:\",name)\n",
    "print(\"my gender is:\",gender)\n",
    "print(\"my height is:\",height)\n",
    "print(\"my age is:\",age)\n"
   ]
  }
 ],
 "metadata": {
  "kernelspec": {
   "display_name": "base",
   "language": "python",
   "name": "python3"
  },
  "language_info": {
   "codemirror_mode": {
    "name": "ipython",
    "version": 3
   },
   "file_extension": ".py",
   "mimetype": "text/x-python",
   "name": "python",
   "nbconvert_exporter": "python",
   "pygments_lexer": "ipython3",
   "version": "3.12.7"
  }
 },
 "nbformat": 4,
 "nbformat_minor": 5
}
