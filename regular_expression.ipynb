{
 "cells": [
  {
   "cell_type": "code",
   "execution_count": 2,
   "id": "385a4768-87ba-41ae-a4d8-5eee1698da64",
   "metadata": {},
   "outputs": [
    {
     "name": "stdout",
     "output_type": "stream",
     "text": [
      "Match found:- aalam\n"
     ]
    }
   ],
   "source": [
    "#using match()\n",
    "import re\n",
    "text = \"aalam ashwin raj altaf\"\n",
    "pattern = r\"aalam\"\n",
    "match = re.match(pattern,text)\n",
    "if match:\n",
    "    print(\"Match found:-\",match.group())\n",
    "else:\n",
    "    print(\"No found:-\")"
   ]
  },
  {
   "cell_type": "code",
   "execution_count": 4,
   "id": "35a92904-3b8b-4ae9-93aa-2a0592523a60",
   "metadata": {},
   "outputs": [
    {
     "name": "stdout",
     "output_type": "stream",
     "text": [
      "Match found:- raj\n"
     ]
    }
   ],
   "source": [
    "#search()\n",
    "pattern = r\"raj\"\n",
    "match = re.search(pattern,text)\n",
    "if match:\n",
    "    print(\"Match found:-\",match.group())\n",
    "else:\n",
    "    print(\"No found:-\")"
   ]
  },
  {
   "cell_type": "code",
   "execution_count": 8,
   "id": "a50026d0-7a6c-4163-ac62-60b1ce21fc74",
   "metadata": {},
   "outputs": [
    {
     "name": "stdout",
     "output_type": "stream",
     "text": [
      "Match found:- raj\n"
     ]
    }
   ],
   "source": [
    "#re.ignorecases\n",
    "pattern = r\"Raj\"\n",
    "match = re.search(pattern,text,re.IGNORECASE)\n",
    "if match:\n",
    "    print(\"Match found:-\",match.group())\n",
    "else:\n",
    "    print(\"No found:-\")"
   ]
  },
  {
   "cell_type": "code",
   "execution_count": 45,
   "id": "8bf7398b-49a9-45b9-b8a6-873c41c23274",
   "metadata": {},
   "outputs": [
    {
     "name": "stdout",
     "output_type": "stream",
     "text": [
      "['raj', 'raj', 'raj']\n"
     ]
    }
   ],
   "source": [
    "#re.multiline -start of each line with match\n",
    "text = \"raj is playing \\nraj is cooking \\nraj is runing.\"\n",
    "pattern = r\"^raj\"\n",
    "match = re.findall(pattern,text,re.MULTILINE)\n",
    "print(match)"
   ]
  },
  {
   "cell_type": "code",
   "execution_count": 11,
   "id": "d7dcb4fc-5df3-4b6e-886d-e07db1d52764",
   "metadata": {},
   "outputs": [
    {
     "name": "stdout",
     "output_type": "stream",
     "text": [
      "['example@gmail.com', 'support@company.org']\n"
     ]
    }
   ],
   "source": [
    "import re\n",
    "text=\"contact us at example@gmail.com or support@company.org\"\n",
    "pattern = r\"[a-zA-Z0-9._%+-]+@[a-zA-Z0-9.-]+\\.[a-zA-Z]{2,}\"\n",
    "gmail =re.findall(pattern, text)\n",
    "print(gmail)"
   ]
  },
  {
   "cell_type": "code",
   "execution_count": 13,
   "id": "c4c52f82-ac52-4b20-8b7f-2a1909610658",
   "metadata": {},
   "outputs": [
    {
     "name": "stdout",
     "output_type": "stream",
     "text": [
      "Match found:- (+91) 5897641235\n"
     ]
    }
   ],
   "source": [
    "text=\"call me at (+91) 5897641235\"\n",
    "pattern= r\"\\(+.\\d{2}\\) \\d{10}\"\n",
    "match= re.search(pattern,text)\n",
    "if match:\n",
    "    print(\"Match found:-\",match.group())\n",
    "else:\n",
    "    print(\"No found:-\")"
   ]
  },
  {
   "cell_type": "code",
   "execution_count": null,
   "id": "ad26d8e7-04aa-4f45-a126-acb6cf56d073",
   "metadata": {},
   "outputs": [],
   "source": []
  }
 ],
 "metadata": {
  "kernelspec": {
   "display_name": "Python 3 (ipykernel)",
   "language": "python",
   "name": "python3"
  },
  "language_info": {
   "codemirror_mode": {
    "name": "ipython",
    "version": 3
   },
   "file_extension": ".py",
   "mimetype": "text/x-python",
   "name": "python",
   "nbconvert_exporter": "python",
   "pygments_lexer": "ipython3",
   "version": "3.12.7"
  }
 },
 "nbformat": 4,
 "nbformat_minor": 5
}
