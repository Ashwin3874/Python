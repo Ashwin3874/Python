{
 "cells": [
  {
   "cell_type": "code",
   "execution_count": 5,
   "id": "20507f52",
   "metadata": {},
   "outputs": [
    {
     "name": "stdout",
     "output_type": "stream",
     "text": [
      "result: 5\n"
     ]
    }
   ],
   "source": [
    "\n",
    "result = number1 = int(input(\"enter number1\"))\n",
    "sine = input(\"+,-,*,/\")\n",
    "number2 = int(input(\"enter number2\"))\n",
    "print(\"result:\",result)\n"
   ]
  },
  {
   "cell_type": "code",
   "execution_count": 1,
   "id": "e952cabb",
   "metadata": {},
   "outputs": [
    {
     "name": "stdout",
     "output_type": "stream",
     "text": [
      "e is largest\n"
     ]
    }
   ],
   "source": [
    "a=10\n",
    "b=20\n",
    "c=30\n",
    "d=40\n",
    "e=50\n",
    "if a > b and a > c and a>d and a>e:\n",
    "    print(\"a is largest\")\n",
    "elif b>a and b>c and b>d and b>e:\n",
    "    print(\"b is largest\")\n",
    "elif c>a and c>b and c>d and c>e:\n",
    "    print(\"c is largest\")\n",
    "elif d>a and d>b and d>c and d>e:\n",
    "    print(\"d is largest\")\n",
    "elif e>a and e>b and e>c and e>d:\n",
    "    print(\"e is largest\")\n",
    "    \n"
   ]
  },
  {
   "cell_type": "code",
   "execution_count": 2,
   "id": "1a513978",
   "metadata": {},
   "outputs": [
    {
     "name": "stdout",
     "output_type": "stream",
     "text": [
      "False\n",
      "False\n",
      "True\n"
     ]
    }
   ],
   "source": [
    "# logical operators\n",
    "#and \n",
    "print(26>25 and 65>96)\n",
    "#or\n",
    "print(58>65 or 85<85)\n",
    "#Not\n",
    "print(not 58==68)\n"
   ]
  },
  {
   "cell_type": "code",
   "execution_count": 5,
   "id": "2e91d008",
   "metadata": {},
   "outputs": [
    {
     "name": "stdout",
     "output_type": "stream",
     "text": [
      "20.0\n",
      "400.0\n",
      "20.0\n",
      "10.0\n"
     ]
    }
   ],
   "source": [
    "#assigned operators=\n",
    "#a= a+10\n",
    "a += 10\n",
    "print(a)\n",
    "a *= 20\n",
    "print(a)\n",
    "a = a / 20\n",
    "print(a)\n",
    "a -= 10\n",
    "print(a)"
   ]
  },
  {
   "cell_type": "code",
   "execution_count": 1,
   "id": "ca9d3ea8",
   "metadata": {},
   "outputs": [
    {
     "name": "stdout",
     "output_type": "stream",
     "text": [
      "d is lowest value\n"
     ]
    }
   ],
   "source": [
    "a,b,c,d = 20,50,40,10\n",
    "if a<b and a<c and a<d :\n",
    "    print(\"a is lowest value\")\n",
    "elif b<a and b<c and b<d :\n",
    "    print(\"b is lowest value\")\n",
    "elif c<a and c<b and c<d :\n",
    "    print(\"c is lowest value\")\n",
    "elif d<a and d<b and d<c :\n",
    "    print(\"d is lowest value\")\n",
    "    "
   ]
  },
  {
   "cell_type": "code",
   "execution_count": 6,
   "id": "c649eb44",
   "metadata": {},
   "outputs": [
    {
     "name": "stdout",
     "output_type": "stream",
     "text": [
      "False\n",
      "True\n"
     ]
    }
   ],
   "source": [
    "#membership operator\n",
    "#in\n",
    "web = \"enternational\"\n",
    "print('c'in web)\n",
    "#not in\n",
    "print('c'not in web)\n"
   ]
  },
  {
   "cell_type": "code",
   "execution_count": 7,
   "id": "df0c7e3d",
   "metadata": {},
   "outputs": [
    {
     "name": "stdout",
     "output_type": "stream",
     "text": [
      "False\n",
      "True\n"
     ]
    }
   ],
   "source": [
    "#identical operator \n",
    "a,k =20,30\n",
    "print(a is k)\n",
    "print(a is not k)\n",
    "\n"
   ]
  },
  {
   "cell_type": "code",
   "execution_count": 8,
   "id": "f3db7da5",
   "metadata": {},
   "outputs": [
    {
     "name": "stdout",
     "output_type": "stream",
     "text": [
      "False\n",
      "True\n",
      "False\n",
      "True\n",
      "True\n",
      "True\n"
     ]
    }
   ],
   "source": [
    "#comperative operator\n",
    "print(45>56)\n",
    "print(45<89)\n",
    "print(45>=56)\n",
    "print(89<=89)\n",
    "print(45==45)\n",
    "print(58!=56)\n",
    "\n"
   ]
  },
  {
   "cell_type": "code",
   "execution_count": 9,
   "id": "317c5471",
   "metadata": {},
   "outputs": [
    {
     "name": "stdout",
     "output_type": "stream",
     "text": [
      "134\n",
      "22\n",
      "4368\n",
      "1.3928571428571428\n",
      "22\n",
      "9063537806851301394787425545047438571567678382385457961278705521503524847386687022282433358228317374775296\n",
      "1\n"
     ]
    }
   ],
   "source": [
    "#arithmetical operator\n",
    "a=78\n",
    "z=56\n",
    "print(a+z)\n",
    "print(a-z)\n",
    "print(a*z)\n",
    "print(a/z)\n",
    "print(a%z)\n",
    "print(a**z)\n",
    "print(a//z)\n",
    "\n"
   ]
  },
  {
   "cell_type": "code",
   "execution_count": 2,
   "id": "400a5b72",
   "metadata": {},
   "outputs": [
    {
     "name": "stdout",
     "output_type": "stream",
     "text": [
      "True\n"
     ]
    }
   ],
   "source": [
    "k  = \"jdjfojeoiedhg\"\n",
    "print(\"j\" in k )\n"
   ]
  },
  {
   "cell_type": "code",
   "execution_count": 5,
   "id": "bc825a5e",
   "metadata": {},
   "outputs": [
    {
     "name": "stdout",
     "output_type": "stream",
     "text": [
      "False False False True False True\n"
     ]
    }
   ],
   "source": [
    "r,a,k = 40 , 50 ,50\n",
    "print(r is a,r is k , a is r, a is k , k is r,k is a)\n"
   ]
  },
  {
   "cell_type": "code",
   "execution_count": 8,
   "id": "ba2444da",
   "metadata": {},
   "outputs": [
    {
     "name": "stdout",
     "output_type": "stream",
     "text": [
      "True True\n",
      "False False\n"
     ]
    }
   ],
   "source": [
    "g,d,p,h =  70, 80 ,80,70\n",
    "print(g is not d,p is not h)\n",
    "print(g is not h,d is not p)\n",
    "\n"
   ]
  },
  {
   "cell_type": "code",
   "execution_count": 24,
   "id": "2548b2ef",
   "metadata": {},
   "outputs": [
    {
     "name": "stdout",
     "output_type": "stream",
     "text": [
      "20\n",
      "30\n",
      "20\n",
      "2.0\n"
     ]
    }
   ],
   "source": [
    "a =10 \n",
    "a= a+10\n",
    "print(a)\n",
    "a += 10\n",
    "print(a)\n",
    "a -= 10\n",
    "print(a)\n",
    "a /= 10\n",
    "print(a)\n",
    "\n",
    "\n"
   ]
  },
  {
   "cell_type": "code",
   "execution_count": 30,
   "id": "9d4aaa86",
   "metadata": {},
   "outputs": [
    {
     "name": "stdout",
     "output_type": "stream",
     "text": [
      "8000\n"
     ]
    }
   ],
   "source": [
    "a=20\n",
    "b=3\n",
    "print(a**b)\n",
    "\n"
   ]
  }
 ],
 "metadata": {
  "kernelspec": {
   "display_name": "base",
   "language": "python",
   "name": "python3"
  },
  "language_info": {
   "codemirror_mode": {
    "name": "ipython",
    "version": 3
   },
   "file_extension": ".py",
   "mimetype": "text/x-python",
   "name": "python",
   "nbconvert_exporter": "python",
   "pygments_lexer": "ipython3",
   "version": "3.12.7"
  }
 },
 "nbformat": 4,
 "nbformat_minor": 5
}
