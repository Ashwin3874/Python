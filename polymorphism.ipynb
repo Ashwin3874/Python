{
 "cells": [
  {
   "cell_type": "code",
   "execution_count": 2,
   "id": "ad2e42c2-15b7-4951-8a61-2adcfe215ff4",
   "metadata": {},
   "outputs": [],
   "source": [
    "class animal:\n",
    "    def sound(self):\n",
    "        return \"some sound\"\n",
    "        "
   ]
  },
  {
   "cell_type": "code",
   "execution_count": 4,
   "id": "b0501dbb-50ad-4e61-99ed-0a7c296123f9",
   "metadata": {},
   "outputs": [],
   "source": [
    "class Dog(animal):\n",
    "    def sound(self):\n",
    "        return \"Bark\""
   ]
  },
  {
   "cell_type": "code",
   "execution_count": 6,
   "id": "339c77e1-1f0d-4d2b-a1c4-4d2820ea7ebf",
   "metadata": {},
   "outputs": [],
   "source": [
    "class Cat(animal):\n",
    "    def sound(self):\n",
    "        return \"Meow\"\n",
    "def make_sound(animal):\n",
    "    print(animal.sound())\n",
    "            "
   ]
  },
  {
   "cell_type": "code",
   "execution_count": 8,
   "id": "7ca3065f-68ca-4ede-9e1e-bbeee851b697",
   "metadata": {},
   "outputs": [],
   "source": [
    "#create objects\n",
    "dog= Dog()\n",
    "cat=Cat()\n"
   ]
  },
  {
   "cell_type": "code",
   "execution_count": 10,
   "id": "04f0ef79-5fdf-40c1-ac2b-97da11732911",
   "metadata": {},
   "outputs": [
    {
     "name": "stdout",
     "output_type": "stream",
     "text": [
      "Bark\n",
      "Meow\n"
     ]
    }
   ],
   "source": [
    "#polymorphism in action\n",
    "make_sound(dog)\n",
    "make_sound(cat)"
   ]
  }
 ],
 "metadata": {
  "kernelspec": {
   "display_name": "Python 3 (ipykernel)",
   "language": "python",
   "name": "python3"
  },
  "language_info": {
   "codemirror_mode": {
    "name": "ipython",
    "version": 3
   },
   "file_extension": ".py",
   "mimetype": "text/x-python",
   "name": "python",
   "nbconvert_exporter": "python",
   "pygments_lexer": "ipython3",
   "version": "3.12.7"
  }
 },
 "nbformat": 4,
 "nbformat_minor": 5
}
