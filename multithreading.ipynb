{
 "cells": [
  {
   "cell_type": "code",
   "execution_count": 26,
   "id": "3125d362-98fb-492e-a8bb-fa223f75849e",
   "metadata": {},
   "outputs": [
    {
     "name": "stdout",
     "output_type": "stream",
     "text": [
      "Task 1 - Interation 0\n",
      "Task 2 - Interation 0\n",
      "Task 1 - Interation 1\n",
      "Task 1 - Interation 2\n",
      "Task 1 - Interation 3\n",
      "Task 1 - Interation 4\n",
      "Task 2 - Interation 1\n",
      "Task 2 - Interation 2\n",
      "Task 2 - Interation 3\n",
      "Task 2 - Interation 4\n",
      "all done -----\n"
     ]
    }
   ],
   "source": [
    "#multi threading\n",
    "import threading\n",
    "import time \n",
    "\n",
    "#define two function to be run in separate threads\n",
    "def task1():\n",
    "    for i in range(5):\n",
    "        print(\"Task 1 - Interation\", i)\n",
    "        time.sleep(1)\n",
    "        \n",
    "def task2():\n",
    "    for i in range(5):\n",
    "        print(\"Task 2 - Interation\", i)\n",
    "        time.sleep(5)\n",
    "        \n",
    "#creating threads objects\n",
    "t1 = threading.Thread(target=task1)\n",
    "t2 = threading.Thread(target=task2)\n",
    "\n",
    "#start the treads\n",
    "t1.start()\n",
    "t2.start()\n",
    "\n",
    "#wait for the threads to finish\n",
    "t1.join()\n",
    "t2.join()\n",
    "\n",
    "print(\"all done -----\")"
   ]
  },
  {
   "cell_type": "code",
   "execution_count": 30,
   "id": "9b611f85-2ce7-46af-9532-d0d616db536c",
   "metadata": {},
   "outputs": [
    {
     "name": "stdout",
     "output_type": "stream",
     "text": [
      "single-threaded program started ashvin.\n",
      "Task 1 started.\n",
      "Task 1 completed.\n",
      "Task 2 started.\n",
      "Task 2 completed.\n",
      "single-threaded program completed ashvin.\n"
     ]
    }
   ],
   "source": [
    "def task1():\n",
    "    print(\"Task 1 started.\")\n",
    "    time.sleep(2) #simulate some time consuming operation\n",
    "    print(\"Task 1 completed.\")\n",
    "         \n",
    "def task2():\n",
    "    print(\"Task 2 started.\")\n",
    "    time.sleep(1) #simulate another operation\n",
    "    print(\"Task 2 completed.\")\n",
    "    \n",
    "def main():\n",
    "    print(\"single-threaded program started ashvin.\")\n",
    "    task1()\n",
    "    task2()\n",
    "    print(\"single-threaded program completed ashvin.\")\n",
    "\n",
    "if __name__==\"__main__\":\n",
    "    main()\n",
    "    \n"
   ]
  },
  {
   "cell_type": "code",
   "execution_count": 2,
   "id": "4f03cf18-712c-4bd6-847c-472730314b7d",
   "metadata": {},
   "outputs": [
    {
     "name": "stdout",
     "output_type": "stream",
     "text": [
      "Welcome Thread 1 ----  0\n",
      "Welcome Thread 1 ----  1\n",
      "Welcome Thread 1 ----  2\n",
      "Welcome Thread 1 ----  3\n",
      "Welcome Thread 1 ----  4\n",
      "Welcome Thread 1 ----  5\n",
      "Welcome Thread 1 ----  6\n",
      "Welcome Thread 1 ----  7\n",
      "Welcome Thread 1 ----  8\n",
      "Welcome Thread 1 ----  9\n"
     ]
    }
   ],
   "source": [
    "from threading import Thread  \n",
    "import time # import time module \n",
    "\n",
    "class threading1():\n",
    "  def run():\n",
    "    for i in range(10):\n",
    "      print('Welcome Thread 1 ---- ',i)\n",
    "      time.sleep(1)\n",
    "\n",
    "obj = threading1\n",
    "obj.run()\n"
   ]
  },
  {
   "cell_type": "code",
   "execution_count": null,
   "id": "bc11e303-c200-471b-9f56-2a9424b6fe88",
   "metadata": {},
   "outputs": [],
   "source": []
  }
 ],
 "metadata": {
  "kernelspec": {
   "display_name": "Python 3 (ipykernel)",
   "language": "python",
   "name": "python3"
  },
  "language_info": {
   "codemirror_mode": {
    "name": "ipython",
    "version": 3
   },
   "file_extension": ".py",
   "mimetype": "text/x-python",
   "name": "python",
   "nbconvert_exporter": "python",
   "pygments_lexer": "ipython3",
   "version": "3.12.7"
  }
 },
 "nbformat": 4,
 "nbformat_minor": 5
}
