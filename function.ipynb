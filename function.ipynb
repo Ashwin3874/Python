{
 "cells": [
  {
   "cell_type": "code",
   "execution_count": 5,
   "id": "73c7b792",
   "metadata": {},
   "outputs": [],
   "source": [
    "# 01 basic\n",
    "# 02 with argument / peramitan\n",
    "# 03 with return type\n",
    "# 04 with argument / return type\n",
    "\n",
    "\n"
   ]
  },
  {
   "cell_type": "code",
   "execution_count": null,
   "id": "6bea4cb5",
   "metadata": {},
   "outputs": [
    {
     "name": "stdout",
     "output_type": "stream",
     "text": [
      "45\n",
      "89\n",
      "489\n",
      "6\n"
     ]
    }
   ],
   "source": [
    "print(min(45,55,63))\n",
    "print(max(45,89,73))\n",
    "print(abs(489))\n",
    "web=\"affuuu\"\n",
    "print(len(web))\n"
   ]
  },
  {
   "cell_type": "code",
   "execution_count": 16,
   "id": "f39251fd-7a76-4ae0-b36e-5d5d441447ad",
   "metadata": {},
   "outputs": [
    {
     "name": "stdout",
     "output_type": "stream",
     "text": [
      "ashwin\n",
      "kannaujiya\n"
     ]
    }
   ],
   "source": [
    "#funtion in python \n",
    "#basic function\n",
    "def greet():\n",
    "    print(\"ashwin\")\n",
    "    print(\"kannaujiya\")\n",
    "greet()\n",
    "    "
   ]
  },
  {
   "cell_type": "code",
   "execution_count": 30,
   "id": "10dfe2af-2d23-4b72-93ef-b746841bb256",
   "metadata": {},
   "outputs": [
    {
     "name": "stdout",
     "output_type": "stream",
     "text": [
      "result: 60\n"
     ]
    }
   ],
   "source": [
    "#funtion with parameters (arguments)\n",
    "def addition(number1,number2,number3):\n",
    "    result=number1+number2+number3\n",
    "    print(\"result:\",result)\n",
    "addition(10,20,30)\n",
    "    \n",
    "    "
   ]
  },
  {
   "cell_type": "code",
   "execution_count": 41,
   "id": "f2749425-f08f-4095-85b5-6cdd287a8c7c",
   "metadata": {},
   "outputs": [
    {
     "name": "stdout",
     "output_type": "stream",
     "text": [
      "------bill------\n",
      "price: 100\n",
      "tax: 18\n",
      "tax_amount: 18.0\n",
      "total: 118.0\n"
     ]
    }
   ],
   "source": [
    "#example\n",
    "def bill(price,tax):\n",
    " tax_amount=price*tax/100\n",
    " total=price+tax_amount\n",
    " print(\"------bill------\")\n",
    " print(\"price:\",price)\n",
    " print(\"tax:\",tax)\n",
    " print(\"tax_amount:\",tax_amount)\n",
    " print(\"total:\",total)\n",
    "bill(100,18)"
   ]
  },
  {
   "cell_type": "code",
   "execution_count": 61,
   "id": "ba36c0bc-c8b1-4141-83f4-a617d84d8815",
   "metadata": {},
   "outputs": [
    {
     "name": "stdout",
     "output_type": "stream",
     "text": [
      "number: 30\n"
     ]
    }
   ],
   "source": [
    "#fuction with return\n",
    "def get_number():\n",
    "  return 10+20\n",
    "number=get_number()\n",
    "print(\"number:\",number)\n",
    "\n",
    "\n",
    "\n"
   ]
  },
  {
   "cell_type": "code",
   "execution_count": 7,
   "id": "1f616ee7-0dba-4418-b89d-19af3b14a0c1",
   "metadata": {},
   "outputs": [
    {
     "name": "stdout",
     "output_type": "stream",
     "text": [
      "result: 200\n"
     ]
    }
   ],
   "source": [
    "#function with return type and parameters\n",
    "def multiply(number1,number2):\n",
    "    return number1*number2\n",
    "result=multiply(10,20)\n",
    "print(\"result:\",result)\n"
   ]
  },
  {
   "cell_type": "code",
   "execution_count": 21,
   "id": "dbf58a0c-94d3-48bd-9753-c958e5282b66",
   "metadata": {},
   "outputs": [
    {
     "name": "stdout",
     "output_type": "stream",
     "text": [
      "total price befor tax is: 1180.0\n",
      "total price after tax is: 1156.4\n"
     ]
    }
   ],
   "source": [
    "#example:\n",
    "def MRP(price,tax):\n",
    "    tax_amount = price*tax/100\n",
    "    total = price+tax_amount\n",
    "    return total\n",
    "total_price=MRP(1000,18)\n",
    "#before discount\n",
    "print(\"total price befor tax is:\",total_price)\n",
    "#less 2% discount\n",
    "total_price-=total_price * 0.02\n",
    "\n",
    "print(\"total price after tax is:\",total_price)\n",
    "\n"
   ]
  }
 ],
 "metadata": {
  "kernelspec": {
   "display_name": "Python 3 (ipykernel)",
   "language": "python",
   "name": "python3"
  },
  "language_info": {
   "codemirror_mode": {
    "name": "ipython",
    "version": 3
   },
   "file_extension": ".py",
   "mimetype": "text/x-python",
   "name": "python",
   "nbconvert_exporter": "python",
   "pygments_lexer": "ipython3",
   "version": "3.12.7"
  }
 },
 "nbformat": 4,
 "nbformat_minor": 5
}
